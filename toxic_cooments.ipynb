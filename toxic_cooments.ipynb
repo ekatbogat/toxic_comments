{
 "cells": [
  {
   "cell_type": "markdown",
   "metadata": {
    "toc": true
   },
   "source": [
    "<h1>Содержание<span class=\"tocSkip\"></span></h1>\n",
    "<div class=\"toc\"><ul class=\"toc-item\"><li><span><a href=\"#Подготовка\" data-toc-modified-id=\"Подготовка-1\"><span class=\"toc-item-num\">1&nbsp;&nbsp;</span>Подготовка</a></span><ul class=\"toc-item\"><li><span><a href=\"#Разделение-выборок\" data-toc-modified-id=\"Разделение-выборок-1.1\"><span class=\"toc-item-num\">1.1&nbsp;&nbsp;</span>Разделение выборок</a></span></li><li><span><a href=\"#Используем-технологию-TF-IDF-для-обработки-данныx,-а-так-же-отфильтруем-содержимое-при-помощи-библиотеки-nltk\" data-toc-modified-id=\"Используем-технологию-TF-IDF-для-обработки-данныx,-а-так-же-отфильтруем-содержимое-при-помощи-библиотеки-nltk-1.2\"><span class=\"toc-item-num\">1.2&nbsp;&nbsp;</span>Используем технологию TF-IDF для обработки данныx, а так же отфильтруем содержимое при помощи библиотеки nltk</a></span></li></ul></li><li><span><a href=\"#Обучение\" data-toc-modified-id=\"Обучение-2\"><span class=\"toc-item-num\">2&nbsp;&nbsp;</span>Обучение</a></span><ul class=\"toc-item\"><li><span><a href=\"#Логистическая-регрессия\" data-toc-modified-id=\"Логистическая-регрессия-2.1\"><span class=\"toc-item-num\">2.1&nbsp;&nbsp;</span>Логистическая регрессия</a></span></li><li><span><a href=\"#Модель-дерево-решений\" data-toc-modified-id=\"Модель-дерево-решений-2.2\"><span class=\"toc-item-num\">2.2&nbsp;&nbsp;</span>Модель дерево решений</a></span></li><li><span><a href=\"#Модель-случайный-лес\" data-toc-modified-id=\"Модель-случайный-лес-2.3\"><span class=\"toc-item-num\">2.3&nbsp;&nbsp;</span>Модель случайный лес</a></span></li></ul></li><li><span><a href=\"#Выводы\" data-toc-modified-id=\"Выводы-3\"><span class=\"toc-item-num\">3&nbsp;&nbsp;</span>Выводы</a></span></li><li><span><a href=\"#Чек-лист-проверки\" data-toc-modified-id=\"Чек-лист-проверки-4\"><span class=\"toc-item-num\">4&nbsp;&nbsp;</span>Чек-лист проверки</a></span></li></ul></div>"
   ]
  },
  {
   "cell_type": "markdown",
   "metadata": {},
   "source": [
    "# Проект для «Викишоп»"
   ]
  },
  {
   "cell_type": "markdown",
   "metadata": {},
   "source": [
    "Интернет-магазин «Викишоп» запускает новый сервис. Теперь пользователи могут редактировать и дополнять описания товаров, как в вики-сообществах. То есть клиенты предлагают свои правки и комментируют изменения других. Магазину нужен инструмент, который будет искать токсичные комментарии и отправлять их на модерацию. \n",
    "\n",
    "Обучите модель классифицировать комментарии на позитивные и негативные. В вашем распоряжении набор данных с разметкой о токсичности правок.\n",
    "\n",
    "Постройте модель со значением метрики качества *F1* не меньше 0.75. \n",
    "\n",
    "**Инструкция по выполнению проекта**\n",
    "\n",
    "1. Загрузите и подготовьте данные.\n",
    "2. Обучите разные модели. \n",
    "3. Сделайте выводы.\n",
    "\n",
    "Для выполнения проекта применять *BERT* необязательно, но вы можете попробовать.\n",
    "\n",
    "**Описание данных**\n",
    "\n",
    "Данные находятся в файле `toxic_comments.csv`. Столбец *text* в нём содержит текст комментария, а *toxic* — целевой признак."
   ]
  },
  {
   "cell_type": "markdown",
   "metadata": {},
   "source": [
    "## Подготовка"
   ]
  },
  {
   "cell_type": "code",
   "execution_count": 1,
   "metadata": {},
   "outputs": [
    {
     "name": "stderr",
     "output_type": "stream",
     "text": [
      "[nltk_data] Downloading package averaged_perceptron_tagger to\n",
      "[nltk_data]     /home/jovyan/nltk_data...\n",
      "[nltk_data]   Package averaged_perceptron_tagger is already up-to-\n",
      "[nltk_data]       date!\n"
     ]
    },
    {
     "data": {
      "text/plain": [
       "True"
      ]
     },
     "execution_count": 1,
     "metadata": {},
     "output_type": "execute_result"
    }
   ],
   "source": [
    "import pandas as pd\n",
    "import numpy as np\n",
    "from sklearn.metrics import f1_score\n",
    "import warnings\n",
    "warnings.filterwarnings('ignore')\n",
    "from sklearn.model_selection import train_test_split\n",
    "from sklearn.tree import DecisionTreeClassifier\n",
    "from sklearn.linear_model import LogisticRegression\n",
    "from catboost import CatBoostClassifier\n",
    "from sklearn.metrics import confusion_matrix\n",
    "from tqdm.notebook import tqdm\n",
    "import matplotlib.pyplot as plt\n",
    "import seaborn as sns\n",
    "from sklearn.model_selection import GridSearchCV\n",
    "from sklearn.ensemble import RandomForestClassifier\n",
    "from lightgbm import LGBMClassifier\n",
    "from sklearn.metrics import make_scorer\n",
    "from sklearn.utils import shuffle\n",
    "import time\n",
    "from sklearn.feature_extraction.text import CountVectorizer \n",
    "import nltk\n",
    "from nltk.corpus import stopwords as nltk_stopwords\n",
    "from sklearn.feature_extraction.text import TfidfVectorizer \n",
    "from pymystem3 import Mystem\n",
    "from nltk.stem import WordNetLemmatizer\n",
    "import re \n",
    "from sklearn.metrics import classification_report\n",
    "\n",
    "from sklearn.metrics import precision_recall_curve\n",
    "from sklearn.metrics import precision_score, recall_score\n",
    "from sklearn.metrics import roc_curve \n",
    "from sklearn.metrics import roc_auc_score\n",
    "import plotly.graph_objects as go\n",
    "import nltk\n",
    "nltk.download('averaged_perceptron_tagger')"
   ]
  },
  {
   "cell_type": "code",
   "execution_count": 2,
   "metadata": {},
   "outputs": [],
   "source": [
    "df=pd.read_csv('/datasets/toxic_comments.csv')"
   ]
  },
  {
   "cell_type": "code",
   "execution_count": 3,
   "metadata": {
    "scrolled": true
   },
   "outputs": [
    {
     "name": "stdout",
     "output_type": "stream",
     "text": [
      "<class 'pandas.core.frame.DataFrame'>\n",
      "RangeIndex: 159292 entries, 0 to 159291\n",
      "Data columns (total 3 columns):\n",
      " #   Column      Non-Null Count   Dtype \n",
      "---  ------      --------------   ----- \n",
      " 0   Unnamed: 0  159292 non-null  int64 \n",
      " 1   text        159292 non-null  object\n",
      " 2   toxic       159292 non-null  int64 \n",
      "dtypes: int64(2), object(1)\n",
      "memory usage: 3.6+ MB\n"
     ]
    }
   ],
   "source": [
    "df.info()"
   ]
  },
  {
   "cell_type": "code",
   "execution_count": 4,
   "metadata": {
    "scrolled": true
   },
   "outputs": [
    {
     "data": {
      "text/html": [
       "<div>\n",
       "<style scoped>\n",
       "    .dataframe tbody tr th:only-of-type {\n",
       "        vertical-align: middle;\n",
       "    }\n",
       "\n",
       "    .dataframe tbody tr th {\n",
       "        vertical-align: top;\n",
       "    }\n",
       "\n",
       "    .dataframe thead th {\n",
       "        text-align: right;\n",
       "    }\n",
       "</style>\n",
       "<table border=\"1\" class=\"dataframe\">\n",
       "  <thead>\n",
       "    <tr style=\"text-align: right;\">\n",
       "      <th></th>\n",
       "      <th>Unnamed: 0</th>\n",
       "      <th>text</th>\n",
       "      <th>toxic</th>\n",
       "    </tr>\n",
       "  </thead>\n",
       "  <tbody>\n",
       "    <tr>\n",
       "      <th>0</th>\n",
       "      <td>0</td>\n",
       "      <td>Explanation\\nWhy the edits made under my usern...</td>\n",
       "      <td>0</td>\n",
       "    </tr>\n",
       "    <tr>\n",
       "      <th>1</th>\n",
       "      <td>1</td>\n",
       "      <td>D'aww! He matches this background colour I'm s...</td>\n",
       "      <td>0</td>\n",
       "    </tr>\n",
       "    <tr>\n",
       "      <th>2</th>\n",
       "      <td>2</td>\n",
       "      <td>Hey man, I'm really not trying to edit war. It...</td>\n",
       "      <td>0</td>\n",
       "    </tr>\n",
       "    <tr>\n",
       "      <th>3</th>\n",
       "      <td>3</td>\n",
       "      <td>\"\\nMore\\nI can't make any real suggestions on ...</td>\n",
       "      <td>0</td>\n",
       "    </tr>\n",
       "    <tr>\n",
       "      <th>4</th>\n",
       "      <td>4</td>\n",
       "      <td>You, sir, are my hero. Any chance you remember...</td>\n",
       "      <td>0</td>\n",
       "    </tr>\n",
       "  </tbody>\n",
       "</table>\n",
       "</div>"
      ],
      "text/plain": [
       "   Unnamed: 0                                               text  toxic\n",
       "0           0  Explanation\\nWhy the edits made under my usern...      0\n",
       "1           1  D'aww! He matches this background colour I'm s...      0\n",
       "2           2  Hey man, I'm really not trying to edit war. It...      0\n",
       "3           3  \"\\nMore\\nI can't make any real suggestions on ...      0\n",
       "4           4  You, sir, are my hero. Any chance you remember...      0"
      ]
     },
     "execution_count": 4,
     "metadata": {},
     "output_type": "execute_result"
    }
   ],
   "source": [
    "df.head()"
   ]
  },
  {
   "cell_type": "code",
   "execution_count": 5,
   "metadata": {},
   "outputs": [
    {
     "data": {
      "text/plain": [
       "(159292, 3)"
      ]
     },
     "execution_count": 5,
     "metadata": {},
     "output_type": "execute_result"
    }
   ],
   "source": [
    "df.shape"
   ]
  },
  {
   "cell_type": "code",
   "execution_count": 6,
   "metadata": {},
   "outputs": [
    {
     "data": {
      "text/html": [
       "<div>\n",
       "<style scoped>\n",
       "    .dataframe tbody tr th:only-of-type {\n",
       "        vertical-align: middle;\n",
       "    }\n",
       "\n",
       "    .dataframe tbody tr th {\n",
       "        vertical-align: top;\n",
       "    }\n",
       "\n",
       "    .dataframe thead th {\n",
       "        text-align: right;\n",
       "    }\n",
       "</style>\n",
       "<table border=\"1\" class=\"dataframe\">\n",
       "  <thead>\n",
       "    <tr style=\"text-align: right;\">\n",
       "      <th></th>\n",
       "      <th>text</th>\n",
       "      <th>toxic</th>\n",
       "    </tr>\n",
       "  </thead>\n",
       "  <tbody>\n",
       "    <tr>\n",
       "      <th>0</th>\n",
       "      <td>Explanation\\nWhy the edits made under my usern...</td>\n",
       "      <td>0</td>\n",
       "    </tr>\n",
       "    <tr>\n",
       "      <th>1</th>\n",
       "      <td>D'aww! He matches this background colour I'm s...</td>\n",
       "      <td>0</td>\n",
       "    </tr>\n",
       "    <tr>\n",
       "      <th>2</th>\n",
       "      <td>Hey man, I'm really not trying to edit war. It...</td>\n",
       "      <td>0</td>\n",
       "    </tr>\n",
       "    <tr>\n",
       "      <th>3</th>\n",
       "      <td>\"\\nMore\\nI can't make any real suggestions on ...</td>\n",
       "      <td>0</td>\n",
       "    </tr>\n",
       "    <tr>\n",
       "      <th>4</th>\n",
       "      <td>You, sir, are my hero. Any chance you remember...</td>\n",
       "      <td>0</td>\n",
       "    </tr>\n",
       "    <tr>\n",
       "      <th>...</th>\n",
       "      <td>...</td>\n",
       "      <td>...</td>\n",
       "    </tr>\n",
       "    <tr>\n",
       "      <th>159287</th>\n",
       "      <td>\":::::And for the second time of asking, when ...</td>\n",
       "      <td>0</td>\n",
       "    </tr>\n",
       "    <tr>\n",
       "      <th>159288</th>\n",
       "      <td>You should be ashamed of yourself \\n\\nThat is ...</td>\n",
       "      <td>0</td>\n",
       "    </tr>\n",
       "    <tr>\n",
       "      <th>159289</th>\n",
       "      <td>Spitzer \\n\\nUmm, theres no actual article for ...</td>\n",
       "      <td>0</td>\n",
       "    </tr>\n",
       "    <tr>\n",
       "      <th>159290</th>\n",
       "      <td>And it looks like it was actually you who put ...</td>\n",
       "      <td>0</td>\n",
       "    </tr>\n",
       "    <tr>\n",
       "      <th>159291</th>\n",
       "      <td>\"\\nAnd ... I really don't think you understand...</td>\n",
       "      <td>0</td>\n",
       "    </tr>\n",
       "  </tbody>\n",
       "</table>\n",
       "<p>159292 rows × 2 columns</p>\n",
       "</div>"
      ],
      "text/plain": [
       "                                                     text  toxic\n",
       "0       Explanation\\nWhy the edits made under my usern...      0\n",
       "1       D'aww! He matches this background colour I'm s...      0\n",
       "2       Hey man, I'm really not trying to edit war. It...      0\n",
       "3       \"\\nMore\\nI can't make any real suggestions on ...      0\n",
       "4       You, sir, are my hero. Any chance you remember...      0\n",
       "...                                                   ...    ...\n",
       "159287  \":::::And for the second time of asking, when ...      0\n",
       "159288  You should be ashamed of yourself \\n\\nThat is ...      0\n",
       "159289  Spitzer \\n\\nUmm, theres no actual article for ...      0\n",
       "159290  And it looks like it was actually you who put ...      0\n",
       "159291  \"\\nAnd ... I really don't think you understand...      0\n",
       "\n",
       "[159292 rows x 2 columns]"
      ]
     },
     "execution_count": 6,
     "metadata": {},
     "output_type": "execute_result"
    }
   ],
   "source": [
    "# удалим ненужный столбец\n",
    "df.drop(columns = ['Unnamed: 0'],axis = 1)"
   ]
  },
  {
   "cell_type": "code",
   "execution_count": 7,
   "metadata": {
    "scrolled": true
   },
   "outputs": [
    {
     "data": {
      "text/plain": [
       "0    89.838787\n",
       "1    10.161213\n",
       "Name: toxic, dtype: float64"
      ]
     },
     "execution_count": 7,
     "metadata": {},
     "output_type": "execute_result"
    }
   ],
   "source": [
    "# проверим процент токсичных комментариев:\n",
    "df['toxic'].value_counts()/df.shape[0]*100"
   ]
  },
  {
   "cell_type": "code",
   "execution_count": 8,
   "metadata": {},
   "outputs": [
    {
     "data": {
      "text/plain": [
       "0.0"
      ]
     },
     "execution_count": 8,
     "metadata": {},
     "output_type": "execute_result"
    }
   ],
   "source": [
    "# проверим на дубликаты\n",
    "df.duplicated().mean()"
   ]
  },
  {
   "cell_type": "markdown",
   "metadata": {},
   "source": [
    "**ВЫВОД:**\n",
    "\n",
    "- В датасете 159292 строки. \n",
    "- Дубликатов и пропусков нет. \n",
    "- Оставили 2 столбца: toxic, text. \n",
    "- В столбце text содержатся тексты твитов. \n",
    "- В столбе toxic булевые значения является ли данный твит токсичным или нет. Оценить тональность — значит отметить текст как позитивный или негативный. То есть мы решаем задачу классификации, где целевой признак равен «1» для положительного текста и «0» для отрицательного. Заметен довольно большой дисбаланс классов в сторону отрицательных комментариев. 89.8 % твитов токсичны.\n",
    "\n"
   ]
  },
  {
   "cell_type": "code",
   "execution_count": 9,
   "metadata": {},
   "outputs": [
    {
     "name": "stdout",
     "output_type": "stream",
     "text": [
      "Explanation\n",
      "Why the edits made under my username Hardcore Metallica Fan were reverted? They weren't vandalisms, just closure on some GAs after I voted at New York Dolls FAC. And please don't remove the template from the talk page since I'm retired now.89.205.38.27\n"
     ]
    }
   ],
   "source": [
    "# Объявим корпус текстов\n",
    "corpus = list(df['text'])\n",
    "print(corpus[0])"
   ]
  },
  {
   "cell_type": "code",
   "execution_count": 10,
   "metadata": {},
   "outputs": [],
   "source": [
    "# Объявим лемматизатор и функцию для очистки и лемматизации текстов \"clear_text\n",
    "lemmatizer = WordNetLemmatizer()\n",
    "def clear_text(text):\n",
    "    y=re.sub(r\"[^'a-zA-Z ]\", ' ', text) \n",
    "    k=\" \".join(y.split())\n",
    "    return k"
   ]
  },
  {
   "cell_type": "code",
   "execution_count": 11,
   "metadata": {},
   "outputs": [],
   "source": [
    "# создадим функцию которая будет использовать функцию по очистке слов и лемматизировать\n",
    "from nltk.corpus import wordnet\n",
    "def get_wordnet_pos(word):\n",
    "    tag = nltk.pos_tag([word])[0][1][0].upper()\n",
    "    tag_dict = {\"J\": wordnet.ADJ,\n",
    "                \"N\": wordnet.NOUN,\n",
    "                \"V\": wordnet.VERB,\n",
    "                \"R\": wordnet.ADV}\n",
    "    return tag_dict.get(tag, wordnet.NOUN)"
   ]
  },
  {
   "cell_type": "code",
   "execution_count": 12,
   "metadata": {
    "scrolled": true
   },
   "outputs": [
    {
     "data": {
      "application/vnd.jupyter.widget-view+json": {
       "model_id": "77bb05ce7c5e4218bfba45ccf8c9c9b5",
       "version_major": 2,
       "version_minor": 0
      },
      "text/plain": [
       "  0%|          | 0/159292 [00:00<?, ?it/s]"
      ]
     },
     "metadata": {},
     "output_type": "display_data"
    }
   ],
   "source": [
    "def lemmafunction(textc):\n",
    "    k=[]\n",
    "    for i in nltk.word_tokenize(textc):\n",
    "        y=lemmatizer.lemmatize(i, get_wordnet_pos(i))\n",
    "        k.append(y)\n",
    "    return ' '.join(k) \n",
    "\n",
    "lemy=[]\n",
    "for i in tqdm(range(len(corpus))):\n",
    "    \n",
    "    lemy.append(lemmafunction(clear_text(corpus[i])))\n",
    "df['lemm_text']=pd.Series(lemy, index=df.index)"
   ]
  },
  {
   "cell_type": "code",
   "execution_count": 13,
   "metadata": {
    "scrolled": false
   },
   "outputs": [
    {
     "data": {
      "text/plain": [
       "'\"\\nMore\\nI can\\'t make any real suggestions on improvement - I wondered if the section statistics should be later on, or a subsection of \"\"types of accidents\"\"  -I think the references may need tidying so that they are all in the exact same format ie date format etc. I can do that later on, if no-one else does first - if you have any preferences for formatting style on references or want to do it yourself please let me know.\\n\\nThere appears to be a backlog on articles for review so I guess there may be a delay until a reviewer turns up. It\\'s listed in the relevant form eg Wikipedia:Good_article_nominations#Transport  \"'"
      ]
     },
     "execution_count": 13,
     "metadata": {},
     "output_type": "execute_result"
    }
   ],
   "source": [
    "# проверка текст до\n",
    "df['text'][3]"
   ]
  },
  {
   "cell_type": "code",
   "execution_count": 14,
   "metadata": {},
   "outputs": [
    {
     "data": {
      "text/plain": [
       "\"More I ca n't make any real suggestion on improvement I wonder if the section statistic should be later on or a subsection of type of accident I think the reference may need tidy so that they be all in the exact same format ie date format etc I can do that later on if no one else do first if you have any preference for format style on reference or want to do it yourself please let me know There appear to be a backlog on article for review so I guess there may be a delay until a reviewer turn up It 's list in the relevant form eg Wikipedia Good article nomination Transport\""
      ]
     },
     "execution_count": 14,
     "metadata": {},
     "output_type": "execute_result"
    }
   ],
   "source": [
    "# проверка текст до\n",
    "df['lemm_text'][3]"
   ]
  },
  {
   "cell_type": "code",
   "execution_count": 15,
   "metadata": {},
   "outputs": [
    {
     "name": "stdout",
     "output_type": "stream",
     "text": [
      "<class 'pandas.core.frame.DataFrame'>\n",
      "RangeIndex: 159292 entries, 0 to 159291\n",
      "Data columns (total 4 columns):\n",
      " #   Column      Non-Null Count   Dtype \n",
      "---  ------      --------------   ----- \n",
      " 0   Unnamed: 0  159292 non-null  int64 \n",
      " 1   text        159292 non-null  object\n",
      " 2   toxic       159292 non-null  int64 \n",
      " 3   lemm_text   159292 non-null  object\n",
      "dtypes: int64(2), object(2)\n",
      "memory usage: 4.9+ MB\n"
     ]
    }
   ],
   "source": [
    "df.info()"
   ]
  },
  {
   "cell_type": "markdown",
   "metadata": {},
   "source": [
    "### Разделение выборок"
   ]
  },
  {
   "cell_type": "code",
   "execution_count": 16,
   "metadata": {},
   "outputs": [],
   "source": [
    "X=df.drop('toxic',axis=1)\n",
    "y=df['toxic']"
   ]
  },
  {
   "cell_type": "code",
   "execution_count": 17,
   "metadata": {},
   "outputs": [],
   "source": [
    "X_train, X_test, y_train, y_test = train_test_split(X, y, test_size=0.10, random_state=42, shuffle=True,stratify=y)"
   ]
  },
  {
   "cell_type": "code",
   "execution_count": 18,
   "metadata": {},
   "outputs": [
    {
     "name": "stdout",
     "output_type": "stream",
     "text": [
      "Размер тренировочной выборки- 90%\n",
      "Размер тестовой выборки - 10%\n"
     ]
    }
   ],
   "source": [
    "# проверка\n",
    "train_sample=X_train.shape[0]/X.shape[0]\n",
    "test_sample=X_test.shape[0]/X.shape[0]\n",
    "\n",
    "print('Размер тренировочной выборки- {:.0%}'.format(train_sample))\n",
    "print('Размер тестовой выборки - {:.0%}'.format(test_sample))"
   ]
  },
  {
   "cell_type": "markdown",
   "metadata": {},
   "source": [
    "### Используем технологию TF-IDF для обработки данныx, а так же отфильтруем содержимое при помощи библиотеки nltk"
   ]
  },
  {
   "cell_type": "code",
   "execution_count": 19,
   "metadata": {},
   "outputs": [
    {
     "name": "stderr",
     "output_type": "stream",
     "text": [
      "[nltk_data] Downloading package stopwords to /home/jovyan/nltk_data...\n",
      "[nltk_data]   Package stopwords is already up-to-date!\n"
     ]
    }
   ],
   "source": [
    "# Загрузим библиотеку и стоп-слова из английского языка\n",
    "nltk.download('stopwords') \n",
    "stop_words = set(nltk_stopwords.words('english'))"
   ]
  },
  {
   "cell_type": "code",
   "execution_count": 20,
   "metadata": {},
   "outputs": [
    {
     "data": {
      "text/plain": [
       "(143362,)"
      ]
     },
     "execution_count": 20,
     "metadata": {},
     "output_type": "execute_result"
    }
   ],
   "source": [
    "# Создадим корпус из лемматизированных и очищенных слов \n",
    "corpus_lemm_train =X_train['lemm_text']\n",
    "corpus_lemm_train.shape"
   ]
  },
  {
   "cell_type": "code",
   "execution_count": 21,
   "metadata": {},
   "outputs": [
    {
     "data": {
      "text/plain": [
       "(143362, 150065)"
      ]
     },
     "execution_count": 21,
     "metadata": {},
     "output_type": "execute_result"
    }
   ],
   "source": [
    "# Применим модель TfidfVectorizer и обучим её на наших тренировочных данных\n",
    "count_tf_idf = TfidfVectorizer(stop_words=stop_words,analyzer='word') \n",
    "tf_idf_train = count_tf_idf.fit_transform(corpus_lemm_train) \n",
    "tf_idf_train.shape"
   ]
  },
  {
   "cell_type": "code",
   "execution_count": 22,
   "metadata": {},
   "outputs": [
    {
     "data": {
      "text/plain": [
       "(15930,)"
      ]
     },
     "execution_count": 22,
     "metadata": {},
     "output_type": "execute_result"
    }
   ],
   "source": [
    "# Создадим так же корпус слов и для тестовой выборки\n",
    "corpus_lemm_test = X_test['lemm_text']\n",
    "corpus_lemm_test.shape"
   ]
  },
  {
   "cell_type": "code",
   "execution_count": 23,
   "metadata": {},
   "outputs": [
    {
     "data": {
      "text/plain": [
       "(15930, 150065)"
      ]
     },
     "execution_count": 23,
     "metadata": {},
     "output_type": "execute_result"
    }
   ],
   "source": [
    "# Трансформируем тестовую выборку\n",
    "tf_idf_test = count_tf_idf.transform(corpus_lemm_test)\n",
    "tf_idf_test.shape"
   ]
  },
  {
   "cell_type": "markdown",
   "metadata": {},
   "source": [
    "## Обучение"
   ]
  },
  {
   "cell_type": "markdown",
   "metadata": {},
   "source": [
    "Обучим модели и оценим их качество кросс-валидацией. Для решения задачи подойдут 3 модели: логистическая регрессия, решающее дерево и случайный лес. Будем замерять метрики качества F1.Начнем с логистической регрессии."
   ]
  },
  {
   "cell_type": "markdown",
   "metadata": {},
   "source": [
    "### Логистическая регрессия"
   ]
  },
  {
   "cell_type": "code",
   "execution_count": 25,
   "metadata": {},
   "outputs": [
    {
     "data": {
      "text/plain": [
       "GridSearchCV(cv=3,\n",
       "             estimator=LogisticRegression(random_state=12345,\n",
       "                                          solver='liblinear'),\n",
       "             param_grid={'C': [5, 10, 15], 'class_weight': [None, 'balanced']},\n",
       "             scoring='f1')"
      ]
     },
     "execution_count": 25,
     "metadata": {},
     "output_type": "execute_result"
    }
   ],
   "source": [
    "# Попробуем подобрать параметры для \n",
    "# Логистическая регрессия\n",
    "par_grid_logist = {\n",
    "                   'class_weight': [None, 'balanced'],\n",
    "                   'C': [5, 10, 15]\n",
    "                   }\n",
    "model_lr = LogisticRegression(solver='liblinear',random_state=12345)\n",
    "\n",
    "grid_search_lr = GridSearchCV(model_lr, par_grid_logist, cv=3,\n",
    "                           scoring='f1')\n",
    "grid_search_lr.fit(tf_idf_train, y_train)"
   ]
  },
  {
   "cell_type": "code",
   "execution_count": 26,
   "metadata": {
    "scrolled": true
   },
   "outputs": [
    {
     "data": {
      "text/plain": [
       "{'C': 10, 'class_weight': None}"
      ]
     },
     "execution_count": 26,
     "metadata": {},
     "output_type": "execute_result"
    }
   ],
   "source": [
    "grid_search_lr.best_params_"
   ]
  },
  {
   "cell_type": "code",
   "execution_count": 27,
   "metadata": {},
   "outputs": [
    {
     "name": "stdout",
     "output_type": "stream",
     "text": [
      "0.7594941723961804\n"
     ]
    }
   ],
   "source": [
    "print(grid_search_lr.best_score_)"
   ]
  },
  {
   "cell_type": "code",
   "execution_count": 28,
   "metadata": {},
   "outputs": [
    {
     "data": {
      "text/plain": [
       "{'mean_fit_time': array([12.83832955, 21.94621412, 14.74489156, 25.17791041, 17.61340038,\n",
       "        29.31140979]),\n",
       " 'std_fit_time': array([0.49996373, 0.20563252, 0.34074264, 0.57015827, 0.34060735,\n",
       "        2.11417435]),\n",
       " 'mean_score_time': array([0.0174849 , 0.01805242, 0.01737396, 0.01807149, 0.0176932 ,\n",
       "        0.01814985]),\n",
       " 'std_score_time': array([6.70367586e-05, 3.66921847e-04, 4.65690113e-04, 2.28423774e-04,\n",
       "        1.30499324e-04, 4.70916388e-04]),\n",
       " 'param_C': masked_array(data=[5, 5, 10, 10, 15, 15],\n",
       "              mask=[False, False, False, False, False, False],\n",
       "        fill_value='?',\n",
       "             dtype=object),\n",
       " 'param_class_weight': masked_array(data=[None, 'balanced', None, 'balanced', None, 'balanced'],\n",
       "              mask=[False, False, False, False, False, False],\n",
       "        fill_value='?',\n",
       "             dtype=object),\n",
       " 'params': [{'C': 5, 'class_weight': None},\n",
       "  {'C': 5, 'class_weight': 'balanced'},\n",
       "  {'C': 10, 'class_weight': None},\n",
       "  {'C': 10, 'class_weight': 'balanced'},\n",
       "  {'C': 15, 'class_weight': None},\n",
       "  {'C': 15, 'class_weight': 'balanced'}],\n",
       " 'split0_test_score': array([0.76100928, 0.75470976, 0.76544944, 0.75526521, 0.76361098,\n",
       "        0.75272835]),\n",
       " 'split1_test_score': array([0.7541806 , 0.75899108, 0.75900082, 0.76115178, 0.75681342,\n",
       "        0.75922464]),\n",
       " 'split2_test_score': array([0.74776947, 0.75481139, 0.75403226, 0.75607367, 0.75612053,\n",
       "        0.75336234]),\n",
       " 'mean_test_score': array([0.75431979, 0.75617075, 0.75949417, 0.75749689, 0.75884831,\n",
       "        0.75510511]),\n",
       " 'std_test_score': array([0.00540603, 0.00199471, 0.00467408, 0.00260539, 0.00337958,\n",
       "        0.00292442]),\n",
       " 'rank_test_score': array([6, 4, 1, 3, 2, 5], dtype=int32)}"
      ]
     },
     "execution_count": 28,
     "metadata": {},
     "output_type": "execute_result"
    }
   ],
   "source": [
    "grid_search_lr.cv_results_"
   ]
  },
  {
   "cell_type": "code",
   "execution_count": 29,
   "metadata": {},
   "outputs": [
    {
     "name": "stdout",
     "output_type": "stream",
     "text": [
      "LogisticRegression(C=10, random_state=12345, solver='liblinear')\n"
     ]
    }
   ],
   "source": [
    "print(grid_search_lr.best_estimator_)"
   ]
  },
  {
   "cell_type": "code",
   "execution_count": 30,
   "metadata": {},
   "outputs": [
    {
     "data": {
      "text/html": [
       "<div>\n",
       "<style scoped>\n",
       "    .dataframe tbody tr th:only-of-type {\n",
       "        vertical-align: middle;\n",
       "    }\n",
       "\n",
       "    .dataframe tbody tr th {\n",
       "        vertical-align: top;\n",
       "    }\n",
       "\n",
       "    .dataframe thead th {\n",
       "        text-align: right;\n",
       "    }\n",
       "</style>\n",
       "<table border=\"1\" class=\"dataframe\">\n",
       "  <thead>\n",
       "    <tr style=\"text-align: right;\">\n",
       "      <th></th>\n",
       "      <th>mean_fit_time</th>\n",
       "      <th>std_fit_time</th>\n",
       "      <th>mean_score_time</th>\n",
       "      <th>std_score_time</th>\n",
       "      <th>param_C</th>\n",
       "      <th>param_class_weight</th>\n",
       "      <th>params</th>\n",
       "      <th>split0_test_score</th>\n",
       "      <th>split1_test_score</th>\n",
       "      <th>split2_test_score</th>\n",
       "      <th>mean_test_score</th>\n",
       "      <th>std_test_score</th>\n",
       "      <th>rank_test_score</th>\n",
       "    </tr>\n",
       "  </thead>\n",
       "  <tbody>\n",
       "    <tr>\n",
       "      <th>0</th>\n",
       "      <td>12.838330</td>\n",
       "      <td>0.499964</td>\n",
       "      <td>0.017485</td>\n",
       "      <td>0.000067</td>\n",
       "      <td>5</td>\n",
       "      <td>None</td>\n",
       "      <td>{'C': 5, 'class_weight': None}</td>\n",
       "      <td>0.761009</td>\n",
       "      <td>0.754181</td>\n",
       "      <td>0.747769</td>\n",
       "      <td>0.754320</td>\n",
       "      <td>0.005406</td>\n",
       "      <td>6</td>\n",
       "    </tr>\n",
       "    <tr>\n",
       "      <th>1</th>\n",
       "      <td>21.946214</td>\n",
       "      <td>0.205633</td>\n",
       "      <td>0.018052</td>\n",
       "      <td>0.000367</td>\n",
       "      <td>5</td>\n",
       "      <td>balanced</td>\n",
       "      <td>{'C': 5, 'class_weight': 'balanced'}</td>\n",
       "      <td>0.754710</td>\n",
       "      <td>0.758991</td>\n",
       "      <td>0.754811</td>\n",
       "      <td>0.756171</td>\n",
       "      <td>0.001995</td>\n",
       "      <td>4</td>\n",
       "    </tr>\n",
       "    <tr>\n",
       "      <th>2</th>\n",
       "      <td>14.744892</td>\n",
       "      <td>0.340743</td>\n",
       "      <td>0.017374</td>\n",
       "      <td>0.000466</td>\n",
       "      <td>10</td>\n",
       "      <td>None</td>\n",
       "      <td>{'C': 10, 'class_weight': None}</td>\n",
       "      <td>0.765449</td>\n",
       "      <td>0.759001</td>\n",
       "      <td>0.754032</td>\n",
       "      <td>0.759494</td>\n",
       "      <td>0.004674</td>\n",
       "      <td>1</td>\n",
       "    </tr>\n",
       "    <tr>\n",
       "      <th>3</th>\n",
       "      <td>25.177910</td>\n",
       "      <td>0.570158</td>\n",
       "      <td>0.018071</td>\n",
       "      <td>0.000228</td>\n",
       "      <td>10</td>\n",
       "      <td>balanced</td>\n",
       "      <td>{'C': 10, 'class_weight': 'balanced'}</td>\n",
       "      <td>0.755265</td>\n",
       "      <td>0.761152</td>\n",
       "      <td>0.756074</td>\n",
       "      <td>0.757497</td>\n",
       "      <td>0.002605</td>\n",
       "      <td>3</td>\n",
       "    </tr>\n",
       "    <tr>\n",
       "      <th>4</th>\n",
       "      <td>17.613400</td>\n",
       "      <td>0.340607</td>\n",
       "      <td>0.017693</td>\n",
       "      <td>0.000130</td>\n",
       "      <td>15</td>\n",
       "      <td>None</td>\n",
       "      <td>{'C': 15, 'class_weight': None}</td>\n",
       "      <td>0.763611</td>\n",
       "      <td>0.756813</td>\n",
       "      <td>0.756121</td>\n",
       "      <td>0.758848</td>\n",
       "      <td>0.003380</td>\n",
       "      <td>2</td>\n",
       "    </tr>\n",
       "    <tr>\n",
       "      <th>5</th>\n",
       "      <td>29.311410</td>\n",
       "      <td>2.114174</td>\n",
       "      <td>0.018150</td>\n",
       "      <td>0.000471</td>\n",
       "      <td>15</td>\n",
       "      <td>balanced</td>\n",
       "      <td>{'C': 15, 'class_weight': 'balanced'}</td>\n",
       "      <td>0.752728</td>\n",
       "      <td>0.759225</td>\n",
       "      <td>0.753362</td>\n",
       "      <td>0.755105</td>\n",
       "      <td>0.002924</td>\n",
       "      <td>5</td>\n",
       "    </tr>\n",
       "  </tbody>\n",
       "</table>\n",
       "</div>"
      ],
      "text/plain": [
       "   mean_fit_time  std_fit_time  mean_score_time  std_score_time param_C  \\\n",
       "0      12.838330      0.499964         0.017485        0.000067       5   \n",
       "1      21.946214      0.205633         0.018052        0.000367       5   \n",
       "2      14.744892      0.340743         0.017374        0.000466      10   \n",
       "3      25.177910      0.570158         0.018071        0.000228      10   \n",
       "4      17.613400      0.340607         0.017693        0.000130      15   \n",
       "5      29.311410      2.114174         0.018150        0.000471      15   \n",
       "\n",
       "  param_class_weight                                 params  \\\n",
       "0               None         {'C': 5, 'class_weight': None}   \n",
       "1           balanced   {'C': 5, 'class_weight': 'balanced'}   \n",
       "2               None        {'C': 10, 'class_weight': None}   \n",
       "3           balanced  {'C': 10, 'class_weight': 'balanced'}   \n",
       "4               None        {'C': 15, 'class_weight': None}   \n",
       "5           balanced  {'C': 15, 'class_weight': 'balanced'}   \n",
       "\n",
       "   split0_test_score  split1_test_score  split2_test_score  mean_test_score  \\\n",
       "0           0.761009           0.754181           0.747769         0.754320   \n",
       "1           0.754710           0.758991           0.754811         0.756171   \n",
       "2           0.765449           0.759001           0.754032         0.759494   \n",
       "3           0.755265           0.761152           0.756074         0.757497   \n",
       "4           0.763611           0.756813           0.756121         0.758848   \n",
       "5           0.752728           0.759225           0.753362         0.755105   \n",
       "\n",
       "   std_test_score  rank_test_score  \n",
       "0        0.005406                6  \n",
       "1        0.001995                4  \n",
       "2        0.004674                1  \n",
       "3        0.002605                3  \n",
       "4        0.003380                2  \n",
       "5        0.002924                5  "
      ]
     },
     "execution_count": 30,
     "metadata": {},
     "output_type": "execute_result"
    }
   ],
   "source": [
    "pd.DataFrame(grid_search_lr.cv_results_)"
   ]
  },
  {
   "cell_type": "markdown",
   "metadata": {},
   "source": [
    "Теперь перейдем к модели решающего дерева. Переберем гиперпараметры (размер глубины), и выведем на экран при какой глубине результат кросс-валидации дал наивысшую оценку качества модели:"
   ]
  },
  {
   "cell_type": "markdown",
   "metadata": {},
   "source": [
    "### Модель дерево решений"
   ]
  },
  {
   "cell_type": "code",
   "execution_count": 31,
   "metadata": {},
   "outputs": [
    {
     "data": {
      "text/plain": [
       "GridSearchCV(cv=3, estimator=DecisionTreeClassifier(random_state=12345),\n",
       "             param_grid={'criterion': ['gini', 'entropy'],\n",
       "                         'max_depth': array([1, 2, 3, 4, 5, 6, 7, 8, 9])},\n",
       "             scoring='f1')"
      ]
     },
     "execution_count": 31,
     "metadata": {},
     "output_type": "execute_result"
    }
   ],
   "source": [
    "# Модель дерево решений\n",
    "par_grid_DT = {\n",
    "                     'criterion': ['gini', 'entropy'],\n",
    "                     'max_depth': np.arange(1, 10)\n",
    "                      \n",
    "              }\n",
    "model_grid_DT = DecisionTreeClassifier(random_state=12345)\n",
    "\n",
    "grid_search_dt = GridSearchCV(model_grid_DT, par_grid_DT, cv=3,\n",
    "                           scoring= 'f1'\n",
    "                          )\n",
    "grid_search_dt.fit(tf_idf_train, y_train)"
   ]
  },
  {
   "cell_type": "code",
   "execution_count": 32,
   "metadata": {
    "scrolled": true
   },
   "outputs": [
    {
     "data": {
      "text/plain": [
       "{'criterion': 'gini', 'max_depth': 9}"
      ]
     },
     "execution_count": 32,
     "metadata": {},
     "output_type": "execute_result"
    }
   ],
   "source": [
    "grid_search_dt.best_params_"
   ]
  },
  {
   "cell_type": "code",
   "execution_count": 33,
   "metadata": {},
   "outputs": [
    {
     "name": "stdout",
     "output_type": "stream",
     "text": [
      "0.5812529193938835\n"
     ]
    }
   ],
   "source": [
    "print(grid_search_dt.best_score_)"
   ]
  },
  {
   "cell_type": "code",
   "execution_count": 34,
   "metadata": {},
   "outputs": [
    {
     "data": {
      "text/plain": [
       "{'mean_fit_time': array([ 6.50625269,  6.90441934,  7.31804307,  7.68946171,  8.09398007,\n",
       "         8.52912219,  8.96523436,  9.46449518,  9.91690691,  6.66880902,\n",
       "         7.11144646,  7.57597033,  8.1310753 ,  8.61738801,  9.1351908 ,\n",
       "         9.72348992, 10.34767834, 10.94368378]),\n",
       " 'std_fit_time': array([0.04637266, 0.05074503, 0.01265333, 0.03281198, 0.04320892,\n",
       "        0.02784395, 0.05298462, 0.03377721, 0.09087437, 0.07796782,\n",
       "        0.0549464 , 0.02130795, 0.04783796, 0.07697766, 0.03088672,\n",
       "        0.06065346, 0.01053283, 0.05904264]),\n",
       " 'mean_score_time': array([0.057     , 0.05680863, 0.05898809, 0.05749528, 0.0567619 ,\n",
       "        0.05781444, 0.05710983, 0.05687221, 0.0573229 , 0.0568099 ,\n",
       "        0.05612032, 0.05834707, 0.05706271, 0.05728817, 0.05701605,\n",
       "        0.05820934, 0.05712668, 0.05706986]),\n",
       " 'std_score_time': array([0.00078183, 0.00057659, 0.00192148, 0.00054865, 0.0004072 ,\n",
       "        0.00025835, 0.00024912, 0.00091261, 0.00045298, 0.00048394,\n",
       "        0.00055929, 0.00232528, 0.00048624, 0.00093985, 0.00027871,\n",
       "        0.00086188, 0.00067946, 0.00035579]),\n",
       " 'param_criterion': masked_array(data=['gini', 'gini', 'gini', 'gini', 'gini', 'gini', 'gini',\n",
       "                    'gini', 'gini', 'entropy', 'entropy', 'entropy',\n",
       "                    'entropy', 'entropy', 'entropy', 'entropy', 'entropy',\n",
       "                    'entropy'],\n",
       "              mask=[False, False, False, False, False, False, False, False,\n",
       "                    False, False, False, False, False, False, False, False,\n",
       "                    False, False],\n",
       "        fill_value='?',\n",
       "             dtype=object),\n",
       " 'param_max_depth': masked_array(data=[1, 2, 3, 4, 5, 6, 7, 8, 9, 1, 2, 3, 4, 5, 6, 7, 8, 9],\n",
       "              mask=[False, False, False, False, False, False, False, False,\n",
       "                    False, False, False, False, False, False, False, False,\n",
       "                    False, False],\n",
       "        fill_value='?',\n",
       "             dtype=object),\n",
       " 'params': [{'criterion': 'gini', 'max_depth': 1},\n",
       "  {'criterion': 'gini', 'max_depth': 2},\n",
       "  {'criterion': 'gini', 'max_depth': 3},\n",
       "  {'criterion': 'gini', 'max_depth': 4},\n",
       "  {'criterion': 'gini', 'max_depth': 5},\n",
       "  {'criterion': 'gini', 'max_depth': 6},\n",
       "  {'criterion': 'gini', 'max_depth': 7},\n",
       "  {'criterion': 'gini', 'max_depth': 8},\n",
       "  {'criterion': 'gini', 'max_depth': 9},\n",
       "  {'criterion': 'entropy', 'max_depth': 1},\n",
       "  {'criterion': 'entropy', 'max_depth': 2},\n",
       "  {'criterion': 'entropy', 'max_depth': 3},\n",
       "  {'criterion': 'entropy', 'max_depth': 4},\n",
       "  {'criterion': 'entropy', 'max_depth': 5},\n",
       "  {'criterion': 'entropy', 'max_depth': 6},\n",
       "  {'criterion': 'entropy', 'max_depth': 7},\n",
       "  {'criterion': 'entropy', 'max_depth': 8},\n",
       "  {'criterion': 'entropy', 'max_depth': 9}],\n",
       " 'split0_test_score': array([0.35298069, 0.41087516, 0.46094114, 0.49533835, 0.51609076,\n",
       "        0.54548059, 0.55054074, 0.5609861 , 0.58199446, 0.35298069,\n",
       "        0.41087516, 0.46137139, 0.49571622, 0.52788959, 0.51711924,\n",
       "        0.53743979, 0.54800463, 0.56669499]),\n",
       " 'split1_test_score': array([0.34952767, 0.41045499, 0.45379203, 0.49509434, 0.51665675,\n",
       "        0.54417671, 0.55798561, 0.57484524, 0.58445337, 0.34952767,\n",
       "        0.41045499, 0.45410477, 0.49238579, 0.51478415, 0.53509281,\n",
       "        0.54071101, 0.55737243, 0.5661651 ]),\n",
       " 'split2_test_score': array([0.35626577, 0.41692134, 0.45971638, 0.49390152, 0.52281918,\n",
       "        0.54086957, 0.55618615, 0.56929788, 0.57731092, 0.35626577,\n",
       "        0.41692134, 0.45918527, 0.49624512, 0.52467532, 0.51855137,\n",
       "        0.54545455, 0.55719977, 0.57150861]),\n",
       " 'mean_test_score': array([0.35292471, 0.4127505 , 0.45814985, 0.49477807, 0.51852223,\n",
       "        0.54350895, 0.55490417, 0.56837641, 0.58125292, 0.35292471,\n",
       "        0.4127505 , 0.45822048, 0.49478237, 0.52244969, 0.52358781,\n",
       "        0.54120178, 0.55419228, 0.5681229 ]),\n",
       " 'std_test_score': array([0.0027511 , 0.00295422, 0.00312175, 0.00062777, 0.00304718,\n",
       "        0.00194076, 0.00317166, 0.00569537, 0.00296266, 0.0027511 ,\n",
       "        0.00295422, 0.00304402, 0.00170834, 0.00557693, 0.00815625,\n",
       "        0.00329036, 0.0043759 , 0.00240382]),\n",
       " 'rank_test_score': array([17, 15, 14, 12, 10,  6,  4,  2,  1, 17, 15, 13, 11,  9,  8,  7,  5,\n",
       "         3], dtype=int32)}"
      ]
     },
     "execution_count": 34,
     "metadata": {},
     "output_type": "execute_result"
    }
   ],
   "source": [
    "grid_search_dt.cv_results_"
   ]
  },
  {
   "cell_type": "code",
   "execution_count": 35,
   "metadata": {},
   "outputs": [
    {
     "name": "stdout",
     "output_type": "stream",
     "text": [
      "DecisionTreeClassifier(max_depth=9, random_state=12345)\n"
     ]
    }
   ],
   "source": [
    "print(grid_search_dt.best_estimator_)"
   ]
  },
  {
   "cell_type": "code",
   "execution_count": 36,
   "metadata": {},
   "outputs": [
    {
     "data": {
      "text/html": [
       "<div>\n",
       "<style scoped>\n",
       "    .dataframe tbody tr th:only-of-type {\n",
       "        vertical-align: middle;\n",
       "    }\n",
       "\n",
       "    .dataframe tbody tr th {\n",
       "        vertical-align: top;\n",
       "    }\n",
       "\n",
       "    .dataframe thead th {\n",
       "        text-align: right;\n",
       "    }\n",
       "</style>\n",
       "<table border=\"1\" class=\"dataframe\">\n",
       "  <thead>\n",
       "    <tr style=\"text-align: right;\">\n",
       "      <th></th>\n",
       "      <th>mean_fit_time</th>\n",
       "      <th>std_fit_time</th>\n",
       "      <th>mean_score_time</th>\n",
       "      <th>std_score_time</th>\n",
       "      <th>param_criterion</th>\n",
       "      <th>param_max_depth</th>\n",
       "      <th>params</th>\n",
       "      <th>split0_test_score</th>\n",
       "      <th>split1_test_score</th>\n",
       "      <th>split2_test_score</th>\n",
       "      <th>mean_test_score</th>\n",
       "      <th>std_test_score</th>\n",
       "      <th>rank_test_score</th>\n",
       "    </tr>\n",
       "  </thead>\n",
       "  <tbody>\n",
       "    <tr>\n",
       "      <th>0</th>\n",
       "      <td>6.506253</td>\n",
       "      <td>0.046373</td>\n",
       "      <td>0.057000</td>\n",
       "      <td>0.000782</td>\n",
       "      <td>gini</td>\n",
       "      <td>1</td>\n",
       "      <td>{'criterion': 'gini', 'max_depth': 1}</td>\n",
       "      <td>0.352981</td>\n",
       "      <td>0.349528</td>\n",
       "      <td>0.356266</td>\n",
       "      <td>0.352925</td>\n",
       "      <td>0.002751</td>\n",
       "      <td>17</td>\n",
       "    </tr>\n",
       "    <tr>\n",
       "      <th>1</th>\n",
       "      <td>6.904419</td>\n",
       "      <td>0.050745</td>\n",
       "      <td>0.056809</td>\n",
       "      <td>0.000577</td>\n",
       "      <td>gini</td>\n",
       "      <td>2</td>\n",
       "      <td>{'criterion': 'gini', 'max_depth': 2}</td>\n",
       "      <td>0.410875</td>\n",
       "      <td>0.410455</td>\n",
       "      <td>0.416921</td>\n",
       "      <td>0.412750</td>\n",
       "      <td>0.002954</td>\n",
       "      <td>15</td>\n",
       "    </tr>\n",
       "    <tr>\n",
       "      <th>2</th>\n",
       "      <td>7.318043</td>\n",
       "      <td>0.012653</td>\n",
       "      <td>0.058988</td>\n",
       "      <td>0.001921</td>\n",
       "      <td>gini</td>\n",
       "      <td>3</td>\n",
       "      <td>{'criterion': 'gini', 'max_depth': 3}</td>\n",
       "      <td>0.460941</td>\n",
       "      <td>0.453792</td>\n",
       "      <td>0.459716</td>\n",
       "      <td>0.458150</td>\n",
       "      <td>0.003122</td>\n",
       "      <td>14</td>\n",
       "    </tr>\n",
       "    <tr>\n",
       "      <th>3</th>\n",
       "      <td>7.689462</td>\n",
       "      <td>0.032812</td>\n",
       "      <td>0.057495</td>\n",
       "      <td>0.000549</td>\n",
       "      <td>gini</td>\n",
       "      <td>4</td>\n",
       "      <td>{'criterion': 'gini', 'max_depth': 4}</td>\n",
       "      <td>0.495338</td>\n",
       "      <td>0.495094</td>\n",
       "      <td>0.493902</td>\n",
       "      <td>0.494778</td>\n",
       "      <td>0.000628</td>\n",
       "      <td>12</td>\n",
       "    </tr>\n",
       "    <tr>\n",
       "      <th>4</th>\n",
       "      <td>8.093980</td>\n",
       "      <td>0.043209</td>\n",
       "      <td>0.056762</td>\n",
       "      <td>0.000407</td>\n",
       "      <td>gini</td>\n",
       "      <td>5</td>\n",
       "      <td>{'criterion': 'gini', 'max_depth': 5}</td>\n",
       "      <td>0.516091</td>\n",
       "      <td>0.516657</td>\n",
       "      <td>0.522819</td>\n",
       "      <td>0.518522</td>\n",
       "      <td>0.003047</td>\n",
       "      <td>10</td>\n",
       "    </tr>\n",
       "    <tr>\n",
       "      <th>5</th>\n",
       "      <td>8.529122</td>\n",
       "      <td>0.027844</td>\n",
       "      <td>0.057814</td>\n",
       "      <td>0.000258</td>\n",
       "      <td>gini</td>\n",
       "      <td>6</td>\n",
       "      <td>{'criterion': 'gini', 'max_depth': 6}</td>\n",
       "      <td>0.545481</td>\n",
       "      <td>0.544177</td>\n",
       "      <td>0.540870</td>\n",
       "      <td>0.543509</td>\n",
       "      <td>0.001941</td>\n",
       "      <td>6</td>\n",
       "    </tr>\n",
       "    <tr>\n",
       "      <th>6</th>\n",
       "      <td>8.965234</td>\n",
       "      <td>0.052985</td>\n",
       "      <td>0.057110</td>\n",
       "      <td>0.000249</td>\n",
       "      <td>gini</td>\n",
       "      <td>7</td>\n",
       "      <td>{'criterion': 'gini', 'max_depth': 7}</td>\n",
       "      <td>0.550541</td>\n",
       "      <td>0.557986</td>\n",
       "      <td>0.556186</td>\n",
       "      <td>0.554904</td>\n",
       "      <td>0.003172</td>\n",
       "      <td>4</td>\n",
       "    </tr>\n",
       "    <tr>\n",
       "      <th>7</th>\n",
       "      <td>9.464495</td>\n",
       "      <td>0.033777</td>\n",
       "      <td>0.056872</td>\n",
       "      <td>0.000913</td>\n",
       "      <td>gini</td>\n",
       "      <td>8</td>\n",
       "      <td>{'criterion': 'gini', 'max_depth': 8}</td>\n",
       "      <td>0.560986</td>\n",
       "      <td>0.574845</td>\n",
       "      <td>0.569298</td>\n",
       "      <td>0.568376</td>\n",
       "      <td>0.005695</td>\n",
       "      <td>2</td>\n",
       "    </tr>\n",
       "    <tr>\n",
       "      <th>8</th>\n",
       "      <td>9.916907</td>\n",
       "      <td>0.090874</td>\n",
       "      <td>0.057323</td>\n",
       "      <td>0.000453</td>\n",
       "      <td>gini</td>\n",
       "      <td>9</td>\n",
       "      <td>{'criterion': 'gini', 'max_depth': 9}</td>\n",
       "      <td>0.581994</td>\n",
       "      <td>0.584453</td>\n",
       "      <td>0.577311</td>\n",
       "      <td>0.581253</td>\n",
       "      <td>0.002963</td>\n",
       "      <td>1</td>\n",
       "    </tr>\n",
       "    <tr>\n",
       "      <th>9</th>\n",
       "      <td>6.668809</td>\n",
       "      <td>0.077968</td>\n",
       "      <td>0.056810</td>\n",
       "      <td>0.000484</td>\n",
       "      <td>entropy</td>\n",
       "      <td>1</td>\n",
       "      <td>{'criterion': 'entropy', 'max_depth': 1}</td>\n",
       "      <td>0.352981</td>\n",
       "      <td>0.349528</td>\n",
       "      <td>0.356266</td>\n",
       "      <td>0.352925</td>\n",
       "      <td>0.002751</td>\n",
       "      <td>17</td>\n",
       "    </tr>\n",
       "    <tr>\n",
       "      <th>10</th>\n",
       "      <td>7.111446</td>\n",
       "      <td>0.054946</td>\n",
       "      <td>0.056120</td>\n",
       "      <td>0.000559</td>\n",
       "      <td>entropy</td>\n",
       "      <td>2</td>\n",
       "      <td>{'criterion': 'entropy', 'max_depth': 2}</td>\n",
       "      <td>0.410875</td>\n",
       "      <td>0.410455</td>\n",
       "      <td>0.416921</td>\n",
       "      <td>0.412750</td>\n",
       "      <td>0.002954</td>\n",
       "      <td>15</td>\n",
       "    </tr>\n",
       "    <tr>\n",
       "      <th>11</th>\n",
       "      <td>7.575970</td>\n",
       "      <td>0.021308</td>\n",
       "      <td>0.058347</td>\n",
       "      <td>0.002325</td>\n",
       "      <td>entropy</td>\n",
       "      <td>3</td>\n",
       "      <td>{'criterion': 'entropy', 'max_depth': 3}</td>\n",
       "      <td>0.461371</td>\n",
       "      <td>0.454105</td>\n",
       "      <td>0.459185</td>\n",
       "      <td>0.458220</td>\n",
       "      <td>0.003044</td>\n",
       "      <td>13</td>\n",
       "    </tr>\n",
       "    <tr>\n",
       "      <th>12</th>\n",
       "      <td>8.131075</td>\n",
       "      <td>0.047838</td>\n",
       "      <td>0.057063</td>\n",
       "      <td>0.000486</td>\n",
       "      <td>entropy</td>\n",
       "      <td>4</td>\n",
       "      <td>{'criterion': 'entropy', 'max_depth': 4}</td>\n",
       "      <td>0.495716</td>\n",
       "      <td>0.492386</td>\n",
       "      <td>0.496245</td>\n",
       "      <td>0.494782</td>\n",
       "      <td>0.001708</td>\n",
       "      <td>11</td>\n",
       "    </tr>\n",
       "    <tr>\n",
       "      <th>13</th>\n",
       "      <td>8.617388</td>\n",
       "      <td>0.076978</td>\n",
       "      <td>0.057288</td>\n",
       "      <td>0.000940</td>\n",
       "      <td>entropy</td>\n",
       "      <td>5</td>\n",
       "      <td>{'criterion': 'entropy', 'max_depth': 5}</td>\n",
       "      <td>0.527890</td>\n",
       "      <td>0.514784</td>\n",
       "      <td>0.524675</td>\n",
       "      <td>0.522450</td>\n",
       "      <td>0.005577</td>\n",
       "      <td>9</td>\n",
       "    </tr>\n",
       "    <tr>\n",
       "      <th>14</th>\n",
       "      <td>9.135191</td>\n",
       "      <td>0.030887</td>\n",
       "      <td>0.057016</td>\n",
       "      <td>0.000279</td>\n",
       "      <td>entropy</td>\n",
       "      <td>6</td>\n",
       "      <td>{'criterion': 'entropy', 'max_depth': 6}</td>\n",
       "      <td>0.517119</td>\n",
       "      <td>0.535093</td>\n",
       "      <td>0.518551</td>\n",
       "      <td>0.523588</td>\n",
       "      <td>0.008156</td>\n",
       "      <td>8</td>\n",
       "    </tr>\n",
       "    <tr>\n",
       "      <th>15</th>\n",
       "      <td>9.723490</td>\n",
       "      <td>0.060653</td>\n",
       "      <td>0.058209</td>\n",
       "      <td>0.000862</td>\n",
       "      <td>entropy</td>\n",
       "      <td>7</td>\n",
       "      <td>{'criterion': 'entropy', 'max_depth': 7}</td>\n",
       "      <td>0.537440</td>\n",
       "      <td>0.540711</td>\n",
       "      <td>0.545455</td>\n",
       "      <td>0.541202</td>\n",
       "      <td>0.003290</td>\n",
       "      <td>7</td>\n",
       "    </tr>\n",
       "    <tr>\n",
       "      <th>16</th>\n",
       "      <td>10.347678</td>\n",
       "      <td>0.010533</td>\n",
       "      <td>0.057127</td>\n",
       "      <td>0.000679</td>\n",
       "      <td>entropy</td>\n",
       "      <td>8</td>\n",
       "      <td>{'criterion': 'entropy', 'max_depth': 8}</td>\n",
       "      <td>0.548005</td>\n",
       "      <td>0.557372</td>\n",
       "      <td>0.557200</td>\n",
       "      <td>0.554192</td>\n",
       "      <td>0.004376</td>\n",
       "      <td>5</td>\n",
       "    </tr>\n",
       "    <tr>\n",
       "      <th>17</th>\n",
       "      <td>10.943684</td>\n",
       "      <td>0.059043</td>\n",
       "      <td>0.057070</td>\n",
       "      <td>0.000356</td>\n",
       "      <td>entropy</td>\n",
       "      <td>9</td>\n",
       "      <td>{'criterion': 'entropy', 'max_depth': 9}</td>\n",
       "      <td>0.566695</td>\n",
       "      <td>0.566165</td>\n",
       "      <td>0.571509</td>\n",
       "      <td>0.568123</td>\n",
       "      <td>0.002404</td>\n",
       "      <td>3</td>\n",
       "    </tr>\n",
       "  </tbody>\n",
       "</table>\n",
       "</div>"
      ],
      "text/plain": [
       "    mean_fit_time  std_fit_time  mean_score_time  std_score_time  \\\n",
       "0        6.506253      0.046373         0.057000        0.000782   \n",
       "1        6.904419      0.050745         0.056809        0.000577   \n",
       "2        7.318043      0.012653         0.058988        0.001921   \n",
       "3        7.689462      0.032812         0.057495        0.000549   \n",
       "4        8.093980      0.043209         0.056762        0.000407   \n",
       "5        8.529122      0.027844         0.057814        0.000258   \n",
       "6        8.965234      0.052985         0.057110        0.000249   \n",
       "7        9.464495      0.033777         0.056872        0.000913   \n",
       "8        9.916907      0.090874         0.057323        0.000453   \n",
       "9        6.668809      0.077968         0.056810        0.000484   \n",
       "10       7.111446      0.054946         0.056120        0.000559   \n",
       "11       7.575970      0.021308         0.058347        0.002325   \n",
       "12       8.131075      0.047838         0.057063        0.000486   \n",
       "13       8.617388      0.076978         0.057288        0.000940   \n",
       "14       9.135191      0.030887         0.057016        0.000279   \n",
       "15       9.723490      0.060653         0.058209        0.000862   \n",
       "16      10.347678      0.010533         0.057127        0.000679   \n",
       "17      10.943684      0.059043         0.057070        0.000356   \n",
       "\n",
       "   param_criterion param_max_depth                                    params  \\\n",
       "0             gini               1     {'criterion': 'gini', 'max_depth': 1}   \n",
       "1             gini               2     {'criterion': 'gini', 'max_depth': 2}   \n",
       "2             gini               3     {'criterion': 'gini', 'max_depth': 3}   \n",
       "3             gini               4     {'criterion': 'gini', 'max_depth': 4}   \n",
       "4             gini               5     {'criterion': 'gini', 'max_depth': 5}   \n",
       "5             gini               6     {'criterion': 'gini', 'max_depth': 6}   \n",
       "6             gini               7     {'criterion': 'gini', 'max_depth': 7}   \n",
       "7             gini               8     {'criterion': 'gini', 'max_depth': 8}   \n",
       "8             gini               9     {'criterion': 'gini', 'max_depth': 9}   \n",
       "9          entropy               1  {'criterion': 'entropy', 'max_depth': 1}   \n",
       "10         entropy               2  {'criterion': 'entropy', 'max_depth': 2}   \n",
       "11         entropy               3  {'criterion': 'entropy', 'max_depth': 3}   \n",
       "12         entropy               4  {'criterion': 'entropy', 'max_depth': 4}   \n",
       "13         entropy               5  {'criterion': 'entropy', 'max_depth': 5}   \n",
       "14         entropy               6  {'criterion': 'entropy', 'max_depth': 6}   \n",
       "15         entropy               7  {'criterion': 'entropy', 'max_depth': 7}   \n",
       "16         entropy               8  {'criterion': 'entropy', 'max_depth': 8}   \n",
       "17         entropy               9  {'criterion': 'entropy', 'max_depth': 9}   \n",
       "\n",
       "    split0_test_score  split1_test_score  split2_test_score  mean_test_score  \\\n",
       "0            0.352981           0.349528           0.356266         0.352925   \n",
       "1            0.410875           0.410455           0.416921         0.412750   \n",
       "2            0.460941           0.453792           0.459716         0.458150   \n",
       "3            0.495338           0.495094           0.493902         0.494778   \n",
       "4            0.516091           0.516657           0.522819         0.518522   \n",
       "5            0.545481           0.544177           0.540870         0.543509   \n",
       "6            0.550541           0.557986           0.556186         0.554904   \n",
       "7            0.560986           0.574845           0.569298         0.568376   \n",
       "8            0.581994           0.584453           0.577311         0.581253   \n",
       "9            0.352981           0.349528           0.356266         0.352925   \n",
       "10           0.410875           0.410455           0.416921         0.412750   \n",
       "11           0.461371           0.454105           0.459185         0.458220   \n",
       "12           0.495716           0.492386           0.496245         0.494782   \n",
       "13           0.527890           0.514784           0.524675         0.522450   \n",
       "14           0.517119           0.535093           0.518551         0.523588   \n",
       "15           0.537440           0.540711           0.545455         0.541202   \n",
       "16           0.548005           0.557372           0.557200         0.554192   \n",
       "17           0.566695           0.566165           0.571509         0.568123   \n",
       "\n",
       "    std_test_score  rank_test_score  \n",
       "0         0.002751               17  \n",
       "1         0.002954               15  \n",
       "2         0.003122               14  \n",
       "3         0.000628               12  \n",
       "4         0.003047               10  \n",
       "5         0.001941                6  \n",
       "6         0.003172                4  \n",
       "7         0.005695                2  \n",
       "8         0.002963                1  \n",
       "9         0.002751               17  \n",
       "10        0.002954               15  \n",
       "11        0.003044               13  \n",
       "12        0.001708               11  \n",
       "13        0.005577                9  \n",
       "14        0.008156                8  \n",
       "15        0.003290                7  \n",
       "16        0.004376                5  \n",
       "17        0.002404                3  "
      ]
     },
     "execution_count": 36,
     "metadata": {},
     "output_type": "execute_result"
    }
   ],
   "source": [
    "pd.DataFrame(grid_search_dt.cv_results_)"
   ]
  },
  {
   "cell_type": "markdown",
   "metadata": {},
   "source": [
    "Теперь перейдем к модели случайного леса. Аналогично работе с предыдущей моделью, в цикле переберем значения гиперпараметра n_estimators, который отвечает за количество деревьев в лесу. Выведем на экран значение n_estimators при котором возможно получить максимальную оценку качества модели, полученную кросс-валидацией:"
   ]
  },
  {
   "cell_type": "markdown",
   "metadata": {},
   "source": [
    "### Модель случайный лес"
   ]
  },
  {
   "cell_type": "code",
   "execution_count": 37,
   "metadata": {},
   "outputs": [
    {
     "data": {
      "text/plain": [
       "GridSearchCV(cv=3, estimator=RandomForestClassifier(random_state=12345),\n",
       "             param_grid={'criterion': ['gini', 'entropy'],\n",
       "                         'min_samples_split': range(5, 10),\n",
       "                         'n_estimators': [3, 10]},\n",
       "             scoring='f1')"
      ]
     },
     "execution_count": 37,
     "metadata": {},
     "output_type": "execute_result"
    }
   ],
   "source": [
    "# Модель случайный лес\n",
    "par_grid_ensemble = {'n_estimators': [3, 10],\n",
    "                     'criterion': ['gini', 'entropy'],\n",
    "                     'min_samples_split': range(5, 10)\n",
    "                    }\n",
    "model_RF = RandomForestClassifier(random_state=12345)\n",
    "\n",
    "grid_search_rf = GridSearchCV(model_RF, par_grid_ensemble, cv=3,\n",
    "                           scoring='f1'\n",
    "                          )\n",
    "grid_search_rf.fit(tf_idf_train, y_train)"
   ]
  },
  {
   "cell_type": "code",
   "execution_count": 38,
   "metadata": {},
   "outputs": [
    {
     "data": {
      "text/plain": [
       "{'criterion': 'gini', 'min_samples_split': 8, 'n_estimators': 10}"
      ]
     },
     "execution_count": 38,
     "metadata": {},
     "output_type": "execute_result"
    }
   ],
   "source": [
    "grid_search_rf.best_params_"
   ]
  },
  {
   "cell_type": "code",
   "execution_count": 39,
   "metadata": {},
   "outputs": [
    {
     "name": "stdout",
     "output_type": "stream",
     "text": [
      "0.6638024473045809\n"
     ]
    }
   ],
   "source": [
    "print(grid_search_rf.best_score_)"
   ]
  },
  {
   "cell_type": "code",
   "execution_count": 40,
   "metadata": {},
   "outputs": [
    {
     "data": {
      "text/plain": [
       "{'mean_fit_time': array([21.71304393, 72.73820488, 21.65727568, 70.78069186, 20.75214299,\n",
       "        68.59166137, 20.59662429, 66.80746341, 20.14525803, 66.03667482,\n",
       "        19.38654542, 63.80862323, 18.78732387, 62.00248305, 18.3540446 ,\n",
       "        60.82910482, 18.13548676, 59.71142451, 17.89901598, 58.68428453]),\n",
       " 'std_fit_time': array([0.47834635, 1.21423739, 0.78823746, 0.86910907, 0.59695487,\n",
       "        0.60045393, 0.68267321, 0.63807969, 0.61228968, 0.54082115,\n",
       "        0.28341983, 0.51976985, 0.25357687, 0.62787019, 0.15292787,\n",
       "        0.23892444, 0.24710571, 0.57431054, 0.12711081, 0.43142417]),\n",
       " 'mean_score_time': array([0.28186568, 0.80291136, 0.28266668, 0.80013331, 0.27813085,\n",
       "        0.80179207, 0.28024888, 0.80502208, 0.28054301, 0.80172356,\n",
       "        0.2253716 , 0.63828317, 0.22489913, 0.63658897, 0.22710101,\n",
       "        0.63602567, 0.22881929, 0.6374774 , 0.22587156, 0.63370268]),\n",
       " 'std_score_time': array([0.00977433, 0.0098875 , 0.00917208, 0.00792085, 0.00633618,\n",
       "        0.00965961, 0.008033  , 0.0143892 , 0.00767811, 0.00508002,\n",
       "        0.00134784, 0.00716828, 0.00344314, 0.00298115, 0.00108676,\n",
       "        0.00632553, 0.00147809, 0.00796674, 0.00449788, 0.01279544]),\n",
       " 'param_criterion': masked_array(data=['gini', 'gini', 'gini', 'gini', 'gini', 'gini', 'gini',\n",
       "                    'gini', 'gini', 'gini', 'entropy', 'entropy',\n",
       "                    'entropy', 'entropy', 'entropy', 'entropy', 'entropy',\n",
       "                    'entropy', 'entropy', 'entropy'],\n",
       "              mask=[False, False, False, False, False, False, False, False,\n",
       "                    False, False, False, False, False, False, False, False,\n",
       "                    False, False, False, False],\n",
       "        fill_value='?',\n",
       "             dtype=object),\n",
       " 'param_min_samples_split': masked_array(data=[5, 5, 6, 6, 7, 7, 8, 8, 9, 9, 5, 5, 6, 6, 7, 7, 8, 8,\n",
       "                    9, 9],\n",
       "              mask=[False, False, False, False, False, False, False, False,\n",
       "                    False, False, False, False, False, False, False, False,\n",
       "                    False, False, False, False],\n",
       "        fill_value='?',\n",
       "             dtype=object),\n",
       " 'param_n_estimators': masked_array(data=[3, 10, 3, 10, 3, 10, 3, 10, 3, 10, 3, 10, 3, 10, 3, 10,\n",
       "                    3, 10, 3, 10],\n",
       "              mask=[False, False, False, False, False, False, False, False,\n",
       "                    False, False, False, False, False, False, False, False,\n",
       "                    False, False, False, False],\n",
       "        fill_value='?',\n",
       "             dtype=object),\n",
       " 'params': [{'criterion': 'gini', 'min_samples_split': 5, 'n_estimators': 3},\n",
       "  {'criterion': 'gini', 'min_samples_split': 5, 'n_estimators': 10},\n",
       "  {'criterion': 'gini', 'min_samples_split': 6, 'n_estimators': 3},\n",
       "  {'criterion': 'gini', 'min_samples_split': 6, 'n_estimators': 10},\n",
       "  {'criterion': 'gini', 'min_samples_split': 7, 'n_estimators': 3},\n",
       "  {'criterion': 'gini', 'min_samples_split': 7, 'n_estimators': 10},\n",
       "  {'criterion': 'gini', 'min_samples_split': 8, 'n_estimators': 3},\n",
       "  {'criterion': 'gini', 'min_samples_split': 8, 'n_estimators': 10},\n",
       "  {'criterion': 'gini', 'min_samples_split': 9, 'n_estimators': 3},\n",
       "  {'criterion': 'gini', 'min_samples_split': 9, 'n_estimators': 10},\n",
       "  {'criterion': 'entropy', 'min_samples_split': 5, 'n_estimators': 3},\n",
       "  {'criterion': 'entropy', 'min_samples_split': 5, 'n_estimators': 10},\n",
       "  {'criterion': 'entropy', 'min_samples_split': 6, 'n_estimators': 3},\n",
       "  {'criterion': 'entropy', 'min_samples_split': 6, 'n_estimators': 10},\n",
       "  {'criterion': 'entropy', 'min_samples_split': 7, 'n_estimators': 3},\n",
       "  {'criterion': 'entropy', 'min_samples_split': 7, 'n_estimators': 10},\n",
       "  {'criterion': 'entropy', 'min_samples_split': 8, 'n_estimators': 3},\n",
       "  {'criterion': 'entropy', 'min_samples_split': 8, 'n_estimators': 10},\n",
       "  {'criterion': 'entropy', 'min_samples_split': 9, 'n_estimators': 3},\n",
       "  {'criterion': 'entropy', 'min_samples_split': 9, 'n_estimators': 10}],\n",
       " 'split0_test_score': array([0.64109931, 0.66501111, 0.63993003, 0.66832266, 0.64027064,\n",
       "        0.66474519, 0.64748561, 0.66831554, 0.63723754, 0.67110415,\n",
       "        0.61870687, 0.64084696, 0.62074284, 0.64705882, 0.6276868 ,\n",
       "        0.650413  , 0.61808786, 0.64642953, 0.62403698, 0.64500537]),\n",
       " 'split1_test_score': array([0.63327867, 0.66466047, 0.62694169, 0.65542677, 0.63682475,\n",
       "        0.6664043 , 0.63095087, 0.659234  , 0.63270981, 0.6554666 ,\n",
       "        0.58820397, 0.6165867 , 0.58118522, 0.60332871, 0.59469398,\n",
       "        0.60725159, 0.58231545, 0.60213859, 0.57832604, 0.60387812]),\n",
       " 'split2_test_score': array([0.62414751, 0.65893516, 0.62974281, 0.65384105, 0.62082213,\n",
       "        0.65411141, 0.6367996 , 0.6638578 , 0.63515924, 0.6482224 ,\n",
       "        0.61092328, 0.62906076, 0.61327112, 0.62443809, 0.60073742,\n",
       "        0.62961957, 0.61346828, 0.63321612, 0.61355622, 0.62958419]),\n",
       " 'mean_test_score': array([0.63284183, 0.66286891, 0.63220484, 0.65919682, 0.63263917,\n",
       "        0.66175363, 0.63841203, 0.66380245, 0.63503553, 0.65826438,\n",
       "        0.60594471, 0.62883147, 0.60506639, 0.62494187, 0.60770607,\n",
       "        0.62909472, 0.60462386, 0.62726141, 0.60530641, 0.62615589]),\n",
       " 'std_test_score': array([0.00692743, 0.00278526, 0.00558095, 0.00648533, 0.00847351,\n",
       "        0.00544615, 0.00684589, 0.00370773, 0.00185051, 0.00954862,\n",
       "        0.0129408 , 0.00990553, 0.01715982, 0.0178563 , 0.01434231,\n",
       "        0.01762448, 0.01588676, 0.01856548, 0.01955193, 0.01696423]),\n",
       " 'rank_test_score': array([ 8,  2, 10,  4,  9,  3,  6,  1,  7,  5, 17, 12, 19, 15, 16, 11, 20,\n",
       "        13, 18, 14], dtype=int32)}"
      ]
     },
     "execution_count": 40,
     "metadata": {},
     "output_type": "execute_result"
    }
   ],
   "source": [
    "grid_search_rf.cv_results_"
   ]
  },
  {
   "cell_type": "code",
   "execution_count": 41,
   "metadata": {},
   "outputs": [
    {
     "name": "stdout",
     "output_type": "stream",
     "text": [
      "RandomForestClassifier(min_samples_split=8, n_estimators=10, random_state=12345)\n"
     ]
    }
   ],
   "source": [
    "print(grid_search_rf.best_estimator_)"
   ]
  },
  {
   "cell_type": "code",
   "execution_count": 42,
   "metadata": {
    "scrolled": false
   },
   "outputs": [
    {
     "data": {
      "text/html": [
       "<div>\n",
       "<style scoped>\n",
       "    .dataframe tbody tr th:only-of-type {\n",
       "        vertical-align: middle;\n",
       "    }\n",
       "\n",
       "    .dataframe tbody tr th {\n",
       "        vertical-align: top;\n",
       "    }\n",
       "\n",
       "    .dataframe thead th {\n",
       "        text-align: right;\n",
       "    }\n",
       "</style>\n",
       "<table border=\"1\" class=\"dataframe\">\n",
       "  <thead>\n",
       "    <tr style=\"text-align: right;\">\n",
       "      <th></th>\n",
       "      <th>mean_fit_time</th>\n",
       "      <th>std_fit_time</th>\n",
       "      <th>mean_score_time</th>\n",
       "      <th>std_score_time</th>\n",
       "      <th>param_criterion</th>\n",
       "      <th>param_min_samples_split</th>\n",
       "      <th>param_n_estimators</th>\n",
       "      <th>params</th>\n",
       "      <th>split0_test_score</th>\n",
       "      <th>split1_test_score</th>\n",
       "      <th>split2_test_score</th>\n",
       "      <th>mean_test_score</th>\n",
       "      <th>std_test_score</th>\n",
       "      <th>rank_test_score</th>\n",
       "    </tr>\n",
       "  </thead>\n",
       "  <tbody>\n",
       "    <tr>\n",
       "      <th>0</th>\n",
       "      <td>21.713044</td>\n",
       "      <td>0.478346</td>\n",
       "      <td>0.281866</td>\n",
       "      <td>0.009774</td>\n",
       "      <td>gini</td>\n",
       "      <td>5</td>\n",
       "      <td>3</td>\n",
       "      <td>{'criterion': 'gini', 'min_samples_split': 5, ...</td>\n",
       "      <td>0.641099</td>\n",
       "      <td>0.633279</td>\n",
       "      <td>0.624148</td>\n",
       "      <td>0.632842</td>\n",
       "      <td>0.006927</td>\n",
       "      <td>8</td>\n",
       "    </tr>\n",
       "    <tr>\n",
       "      <th>1</th>\n",
       "      <td>72.738205</td>\n",
       "      <td>1.214237</td>\n",
       "      <td>0.802911</td>\n",
       "      <td>0.009888</td>\n",
       "      <td>gini</td>\n",
       "      <td>5</td>\n",
       "      <td>10</td>\n",
       "      <td>{'criterion': 'gini', 'min_samples_split': 5, ...</td>\n",
       "      <td>0.665011</td>\n",
       "      <td>0.664660</td>\n",
       "      <td>0.658935</td>\n",
       "      <td>0.662869</td>\n",
       "      <td>0.002785</td>\n",
       "      <td>2</td>\n",
       "    </tr>\n",
       "    <tr>\n",
       "      <th>2</th>\n",
       "      <td>21.657276</td>\n",
       "      <td>0.788237</td>\n",
       "      <td>0.282667</td>\n",
       "      <td>0.009172</td>\n",
       "      <td>gini</td>\n",
       "      <td>6</td>\n",
       "      <td>3</td>\n",
       "      <td>{'criterion': 'gini', 'min_samples_split': 6, ...</td>\n",
       "      <td>0.639930</td>\n",
       "      <td>0.626942</td>\n",
       "      <td>0.629743</td>\n",
       "      <td>0.632205</td>\n",
       "      <td>0.005581</td>\n",
       "      <td>10</td>\n",
       "    </tr>\n",
       "    <tr>\n",
       "      <th>3</th>\n",
       "      <td>70.780692</td>\n",
       "      <td>0.869109</td>\n",
       "      <td>0.800133</td>\n",
       "      <td>0.007921</td>\n",
       "      <td>gini</td>\n",
       "      <td>6</td>\n",
       "      <td>10</td>\n",
       "      <td>{'criterion': 'gini', 'min_samples_split': 6, ...</td>\n",
       "      <td>0.668323</td>\n",
       "      <td>0.655427</td>\n",
       "      <td>0.653841</td>\n",
       "      <td>0.659197</td>\n",
       "      <td>0.006485</td>\n",
       "      <td>4</td>\n",
       "    </tr>\n",
       "    <tr>\n",
       "      <th>4</th>\n",
       "      <td>20.752143</td>\n",
       "      <td>0.596955</td>\n",
       "      <td>0.278131</td>\n",
       "      <td>0.006336</td>\n",
       "      <td>gini</td>\n",
       "      <td>7</td>\n",
       "      <td>3</td>\n",
       "      <td>{'criterion': 'gini', 'min_samples_split': 7, ...</td>\n",
       "      <td>0.640271</td>\n",
       "      <td>0.636825</td>\n",
       "      <td>0.620822</td>\n",
       "      <td>0.632639</td>\n",
       "      <td>0.008474</td>\n",
       "      <td>9</td>\n",
       "    </tr>\n",
       "    <tr>\n",
       "      <th>5</th>\n",
       "      <td>68.591661</td>\n",
       "      <td>0.600454</td>\n",
       "      <td>0.801792</td>\n",
       "      <td>0.009660</td>\n",
       "      <td>gini</td>\n",
       "      <td>7</td>\n",
       "      <td>10</td>\n",
       "      <td>{'criterion': 'gini', 'min_samples_split': 7, ...</td>\n",
       "      <td>0.664745</td>\n",
       "      <td>0.666404</td>\n",
       "      <td>0.654111</td>\n",
       "      <td>0.661754</td>\n",
       "      <td>0.005446</td>\n",
       "      <td>3</td>\n",
       "    </tr>\n",
       "    <tr>\n",
       "      <th>6</th>\n",
       "      <td>20.596624</td>\n",
       "      <td>0.682673</td>\n",
       "      <td>0.280249</td>\n",
       "      <td>0.008033</td>\n",
       "      <td>gini</td>\n",
       "      <td>8</td>\n",
       "      <td>3</td>\n",
       "      <td>{'criterion': 'gini', 'min_samples_split': 8, ...</td>\n",
       "      <td>0.647486</td>\n",
       "      <td>0.630951</td>\n",
       "      <td>0.636800</td>\n",
       "      <td>0.638412</td>\n",
       "      <td>0.006846</td>\n",
       "      <td>6</td>\n",
       "    </tr>\n",
       "    <tr>\n",
       "      <th>7</th>\n",
       "      <td>66.807463</td>\n",
       "      <td>0.638080</td>\n",
       "      <td>0.805022</td>\n",
       "      <td>0.014389</td>\n",
       "      <td>gini</td>\n",
       "      <td>8</td>\n",
       "      <td>10</td>\n",
       "      <td>{'criterion': 'gini', 'min_samples_split': 8, ...</td>\n",
       "      <td>0.668316</td>\n",
       "      <td>0.659234</td>\n",
       "      <td>0.663858</td>\n",
       "      <td>0.663802</td>\n",
       "      <td>0.003708</td>\n",
       "      <td>1</td>\n",
       "    </tr>\n",
       "    <tr>\n",
       "      <th>8</th>\n",
       "      <td>20.145258</td>\n",
       "      <td>0.612290</td>\n",
       "      <td>0.280543</td>\n",
       "      <td>0.007678</td>\n",
       "      <td>gini</td>\n",
       "      <td>9</td>\n",
       "      <td>3</td>\n",
       "      <td>{'criterion': 'gini', 'min_samples_split': 9, ...</td>\n",
       "      <td>0.637238</td>\n",
       "      <td>0.632710</td>\n",
       "      <td>0.635159</td>\n",
       "      <td>0.635036</td>\n",
       "      <td>0.001851</td>\n",
       "      <td>7</td>\n",
       "    </tr>\n",
       "    <tr>\n",
       "      <th>9</th>\n",
       "      <td>66.036675</td>\n",
       "      <td>0.540821</td>\n",
       "      <td>0.801724</td>\n",
       "      <td>0.005080</td>\n",
       "      <td>gini</td>\n",
       "      <td>9</td>\n",
       "      <td>10</td>\n",
       "      <td>{'criterion': 'gini', 'min_samples_split': 9, ...</td>\n",
       "      <td>0.671104</td>\n",
       "      <td>0.655467</td>\n",
       "      <td>0.648222</td>\n",
       "      <td>0.658264</td>\n",
       "      <td>0.009549</td>\n",
       "      <td>5</td>\n",
       "    </tr>\n",
       "    <tr>\n",
       "      <th>10</th>\n",
       "      <td>19.386545</td>\n",
       "      <td>0.283420</td>\n",
       "      <td>0.225372</td>\n",
       "      <td>0.001348</td>\n",
       "      <td>entropy</td>\n",
       "      <td>5</td>\n",
       "      <td>3</td>\n",
       "      <td>{'criterion': 'entropy', 'min_samples_split': ...</td>\n",
       "      <td>0.618707</td>\n",
       "      <td>0.588204</td>\n",
       "      <td>0.610923</td>\n",
       "      <td>0.605945</td>\n",
       "      <td>0.012941</td>\n",
       "      <td>17</td>\n",
       "    </tr>\n",
       "    <tr>\n",
       "      <th>11</th>\n",
       "      <td>63.808623</td>\n",
       "      <td>0.519770</td>\n",
       "      <td>0.638283</td>\n",
       "      <td>0.007168</td>\n",
       "      <td>entropy</td>\n",
       "      <td>5</td>\n",
       "      <td>10</td>\n",
       "      <td>{'criterion': 'entropy', 'min_samples_split': ...</td>\n",
       "      <td>0.640847</td>\n",
       "      <td>0.616587</td>\n",
       "      <td>0.629061</td>\n",
       "      <td>0.628831</td>\n",
       "      <td>0.009906</td>\n",
       "      <td>12</td>\n",
       "    </tr>\n",
       "    <tr>\n",
       "      <th>12</th>\n",
       "      <td>18.787324</td>\n",
       "      <td>0.253577</td>\n",
       "      <td>0.224899</td>\n",
       "      <td>0.003443</td>\n",
       "      <td>entropy</td>\n",
       "      <td>6</td>\n",
       "      <td>3</td>\n",
       "      <td>{'criterion': 'entropy', 'min_samples_split': ...</td>\n",
       "      <td>0.620743</td>\n",
       "      <td>0.581185</td>\n",
       "      <td>0.613271</td>\n",
       "      <td>0.605066</td>\n",
       "      <td>0.017160</td>\n",
       "      <td>19</td>\n",
       "    </tr>\n",
       "    <tr>\n",
       "      <th>13</th>\n",
       "      <td>62.002483</td>\n",
       "      <td>0.627870</td>\n",
       "      <td>0.636589</td>\n",
       "      <td>0.002981</td>\n",
       "      <td>entropy</td>\n",
       "      <td>6</td>\n",
       "      <td>10</td>\n",
       "      <td>{'criterion': 'entropy', 'min_samples_split': ...</td>\n",
       "      <td>0.647059</td>\n",
       "      <td>0.603329</td>\n",
       "      <td>0.624438</td>\n",
       "      <td>0.624942</td>\n",
       "      <td>0.017856</td>\n",
       "      <td>15</td>\n",
       "    </tr>\n",
       "    <tr>\n",
       "      <th>14</th>\n",
       "      <td>18.354045</td>\n",
       "      <td>0.152928</td>\n",
       "      <td>0.227101</td>\n",
       "      <td>0.001087</td>\n",
       "      <td>entropy</td>\n",
       "      <td>7</td>\n",
       "      <td>3</td>\n",
       "      <td>{'criterion': 'entropy', 'min_samples_split': ...</td>\n",
       "      <td>0.627687</td>\n",
       "      <td>0.594694</td>\n",
       "      <td>0.600737</td>\n",
       "      <td>0.607706</td>\n",
       "      <td>0.014342</td>\n",
       "      <td>16</td>\n",
       "    </tr>\n",
       "    <tr>\n",
       "      <th>15</th>\n",
       "      <td>60.829105</td>\n",
       "      <td>0.238924</td>\n",
       "      <td>0.636026</td>\n",
       "      <td>0.006326</td>\n",
       "      <td>entropy</td>\n",
       "      <td>7</td>\n",
       "      <td>10</td>\n",
       "      <td>{'criterion': 'entropy', 'min_samples_split': ...</td>\n",
       "      <td>0.650413</td>\n",
       "      <td>0.607252</td>\n",
       "      <td>0.629620</td>\n",
       "      <td>0.629095</td>\n",
       "      <td>0.017624</td>\n",
       "      <td>11</td>\n",
       "    </tr>\n",
       "    <tr>\n",
       "      <th>16</th>\n",
       "      <td>18.135487</td>\n",
       "      <td>0.247106</td>\n",
       "      <td>0.228819</td>\n",
       "      <td>0.001478</td>\n",
       "      <td>entropy</td>\n",
       "      <td>8</td>\n",
       "      <td>3</td>\n",
       "      <td>{'criterion': 'entropy', 'min_samples_split': ...</td>\n",
       "      <td>0.618088</td>\n",
       "      <td>0.582315</td>\n",
       "      <td>0.613468</td>\n",
       "      <td>0.604624</td>\n",
       "      <td>0.015887</td>\n",
       "      <td>20</td>\n",
       "    </tr>\n",
       "    <tr>\n",
       "      <th>17</th>\n",
       "      <td>59.711425</td>\n",
       "      <td>0.574311</td>\n",
       "      <td>0.637477</td>\n",
       "      <td>0.007967</td>\n",
       "      <td>entropy</td>\n",
       "      <td>8</td>\n",
       "      <td>10</td>\n",
       "      <td>{'criterion': 'entropy', 'min_samples_split': ...</td>\n",
       "      <td>0.646430</td>\n",
       "      <td>0.602139</td>\n",
       "      <td>0.633216</td>\n",
       "      <td>0.627261</td>\n",
       "      <td>0.018565</td>\n",
       "      <td>13</td>\n",
       "    </tr>\n",
       "    <tr>\n",
       "      <th>18</th>\n",
       "      <td>17.899016</td>\n",
       "      <td>0.127111</td>\n",
       "      <td>0.225872</td>\n",
       "      <td>0.004498</td>\n",
       "      <td>entropy</td>\n",
       "      <td>9</td>\n",
       "      <td>3</td>\n",
       "      <td>{'criterion': 'entropy', 'min_samples_split': ...</td>\n",
       "      <td>0.624037</td>\n",
       "      <td>0.578326</td>\n",
       "      <td>0.613556</td>\n",
       "      <td>0.605306</td>\n",
       "      <td>0.019552</td>\n",
       "      <td>18</td>\n",
       "    </tr>\n",
       "    <tr>\n",
       "      <th>19</th>\n",
       "      <td>58.684285</td>\n",
       "      <td>0.431424</td>\n",
       "      <td>0.633703</td>\n",
       "      <td>0.012795</td>\n",
       "      <td>entropy</td>\n",
       "      <td>9</td>\n",
       "      <td>10</td>\n",
       "      <td>{'criterion': 'entropy', 'min_samples_split': ...</td>\n",
       "      <td>0.645005</td>\n",
       "      <td>0.603878</td>\n",
       "      <td>0.629584</td>\n",
       "      <td>0.626156</td>\n",
       "      <td>0.016964</td>\n",
       "      <td>14</td>\n",
       "    </tr>\n",
       "  </tbody>\n",
       "</table>\n",
       "</div>"
      ],
      "text/plain": [
       "    mean_fit_time  std_fit_time  mean_score_time  std_score_time  \\\n",
       "0       21.713044      0.478346         0.281866        0.009774   \n",
       "1       72.738205      1.214237         0.802911        0.009888   \n",
       "2       21.657276      0.788237         0.282667        0.009172   \n",
       "3       70.780692      0.869109         0.800133        0.007921   \n",
       "4       20.752143      0.596955         0.278131        0.006336   \n",
       "5       68.591661      0.600454         0.801792        0.009660   \n",
       "6       20.596624      0.682673         0.280249        0.008033   \n",
       "7       66.807463      0.638080         0.805022        0.014389   \n",
       "8       20.145258      0.612290         0.280543        0.007678   \n",
       "9       66.036675      0.540821         0.801724        0.005080   \n",
       "10      19.386545      0.283420         0.225372        0.001348   \n",
       "11      63.808623      0.519770         0.638283        0.007168   \n",
       "12      18.787324      0.253577         0.224899        0.003443   \n",
       "13      62.002483      0.627870         0.636589        0.002981   \n",
       "14      18.354045      0.152928         0.227101        0.001087   \n",
       "15      60.829105      0.238924         0.636026        0.006326   \n",
       "16      18.135487      0.247106         0.228819        0.001478   \n",
       "17      59.711425      0.574311         0.637477        0.007967   \n",
       "18      17.899016      0.127111         0.225872        0.004498   \n",
       "19      58.684285      0.431424         0.633703        0.012795   \n",
       "\n",
       "   param_criterion param_min_samples_split param_n_estimators  \\\n",
       "0             gini                       5                  3   \n",
       "1             gini                       5                 10   \n",
       "2             gini                       6                  3   \n",
       "3             gini                       6                 10   \n",
       "4             gini                       7                  3   \n",
       "5             gini                       7                 10   \n",
       "6             gini                       8                  3   \n",
       "7             gini                       8                 10   \n",
       "8             gini                       9                  3   \n",
       "9             gini                       9                 10   \n",
       "10         entropy                       5                  3   \n",
       "11         entropy                       5                 10   \n",
       "12         entropy                       6                  3   \n",
       "13         entropy                       6                 10   \n",
       "14         entropy                       7                  3   \n",
       "15         entropy                       7                 10   \n",
       "16         entropy                       8                  3   \n",
       "17         entropy                       8                 10   \n",
       "18         entropy                       9                  3   \n",
       "19         entropy                       9                 10   \n",
       "\n",
       "                                               params  split0_test_score  \\\n",
       "0   {'criterion': 'gini', 'min_samples_split': 5, ...           0.641099   \n",
       "1   {'criterion': 'gini', 'min_samples_split': 5, ...           0.665011   \n",
       "2   {'criterion': 'gini', 'min_samples_split': 6, ...           0.639930   \n",
       "3   {'criterion': 'gini', 'min_samples_split': 6, ...           0.668323   \n",
       "4   {'criterion': 'gini', 'min_samples_split': 7, ...           0.640271   \n",
       "5   {'criterion': 'gini', 'min_samples_split': 7, ...           0.664745   \n",
       "6   {'criterion': 'gini', 'min_samples_split': 8, ...           0.647486   \n",
       "7   {'criterion': 'gini', 'min_samples_split': 8, ...           0.668316   \n",
       "8   {'criterion': 'gini', 'min_samples_split': 9, ...           0.637238   \n",
       "9   {'criterion': 'gini', 'min_samples_split': 9, ...           0.671104   \n",
       "10  {'criterion': 'entropy', 'min_samples_split': ...           0.618707   \n",
       "11  {'criterion': 'entropy', 'min_samples_split': ...           0.640847   \n",
       "12  {'criterion': 'entropy', 'min_samples_split': ...           0.620743   \n",
       "13  {'criterion': 'entropy', 'min_samples_split': ...           0.647059   \n",
       "14  {'criterion': 'entropy', 'min_samples_split': ...           0.627687   \n",
       "15  {'criterion': 'entropy', 'min_samples_split': ...           0.650413   \n",
       "16  {'criterion': 'entropy', 'min_samples_split': ...           0.618088   \n",
       "17  {'criterion': 'entropy', 'min_samples_split': ...           0.646430   \n",
       "18  {'criterion': 'entropy', 'min_samples_split': ...           0.624037   \n",
       "19  {'criterion': 'entropy', 'min_samples_split': ...           0.645005   \n",
       "\n",
       "    split1_test_score  split2_test_score  mean_test_score  std_test_score  \\\n",
       "0            0.633279           0.624148         0.632842        0.006927   \n",
       "1            0.664660           0.658935         0.662869        0.002785   \n",
       "2            0.626942           0.629743         0.632205        0.005581   \n",
       "3            0.655427           0.653841         0.659197        0.006485   \n",
       "4            0.636825           0.620822         0.632639        0.008474   \n",
       "5            0.666404           0.654111         0.661754        0.005446   \n",
       "6            0.630951           0.636800         0.638412        0.006846   \n",
       "7            0.659234           0.663858         0.663802        0.003708   \n",
       "8            0.632710           0.635159         0.635036        0.001851   \n",
       "9            0.655467           0.648222         0.658264        0.009549   \n",
       "10           0.588204           0.610923         0.605945        0.012941   \n",
       "11           0.616587           0.629061         0.628831        0.009906   \n",
       "12           0.581185           0.613271         0.605066        0.017160   \n",
       "13           0.603329           0.624438         0.624942        0.017856   \n",
       "14           0.594694           0.600737         0.607706        0.014342   \n",
       "15           0.607252           0.629620         0.629095        0.017624   \n",
       "16           0.582315           0.613468         0.604624        0.015887   \n",
       "17           0.602139           0.633216         0.627261        0.018565   \n",
       "18           0.578326           0.613556         0.605306        0.019552   \n",
       "19           0.603878           0.629584         0.626156        0.016964   \n",
       "\n",
       "    rank_test_score  \n",
       "0                 8  \n",
       "1                 2  \n",
       "2                10  \n",
       "3                 4  \n",
       "4                 9  \n",
       "5                 3  \n",
       "6                 6  \n",
       "7                 1  \n",
       "8                 7  \n",
       "9                 5  \n",
       "10               17  \n",
       "11               12  \n",
       "12               19  \n",
       "13               15  \n",
       "14               16  \n",
       "15               11  \n",
       "16               20  \n",
       "17               13  \n",
       "18               18  \n",
       "19               14  "
      ]
     },
     "execution_count": 42,
     "metadata": {},
     "output_type": "execute_result"
    }
   ],
   "source": [
    "pd.DataFrame(grid_search_rf.cv_results_)"
   ]
  },
  {
   "cell_type": "code",
   "execution_count": 47,
   "metadata": {
    "scrolled": true
   },
   "outputs": [
    {
     "name": "stdout",
     "output_type": "stream",
     "text": [
      "Логистическая регрессия: 0.76\n",
      "Модель дерево решений: 0.58\n",
      "Модель случайный лес: 0.66\n"
     ]
    }
   ],
   "source": [
    "print('Логистическая регрессия:', 0.76)\n",
    "print('Модель дерево решений:', 0.58)\n",
    "print('Модель случайный лес:', 0.66)"
   ]
  },
  {
   "cell_type": "markdown",
   "metadata": {},
   "source": [
    "###### ВЫВОД: \n",
    "- Модель логистическая регрессия: 0.76 лучшая.Теперь проверим ее на тестовой выборке. "
   ]
  },
  {
   "cell_type": "code",
   "execution_count": 45,
   "metadata": {
    "scrolled": true
   },
   "outputs": [
    {
     "name": "stdout",
     "output_type": "stream",
     "text": [
      "f1: 0.7863013698630138\n"
     ]
    }
   ],
   "source": [
    "predicted = grid_search_lr.predict(tf_idf_test)\n",
    "f1 = f1_score(y_test, predicted)\n",
    "\n",
    "print(\"f1:\", f1)"
   ]
  },
  {
   "cell_type": "markdown",
   "metadata": {},
   "source": [
    "ВЫВОД: Модель LogisticRegression показала результат на тесте метрики F1= 0.78."
   ]
  },
  {
   "cell_type": "markdown",
   "metadata": {},
   "source": [
    "## Выводы"
   ]
  },
  {
   "cell_type": "markdown",
   "metadata": {},
   "source": [
    "На первом этапе произведена загрузка данных и их подготовка для обучения моделей. \n",
    "Для анализа данных и построения модели предоставлен датасет с размеченными данными, содержащий комментарии пользователей к товарам, доступным для приобретения в интернет-магазине «Викишоп». Датасет состоит из 3 столбцов с данными и 159292 строк. \n",
    "Затем тексты комментариев были очищены и лемматизированы. \n",
    "Проверка соотношения классов показала, что в датасете имеет место явный дисбаланс. Мажорный класс составляет лишь 10% от всего датасета. \n",
    "После векторизации датасет образовал матрицу размером (119469, 134385). В итоге полученный датасет разделен на обучающую 90 % и тестовые выборки 10 %.\n",
    "\n",
    "В качестве моделей использованы Логистическая регрессия, Дерево решений, Случайный лес. \n",
    "По результатам подбора гиперпараметров и обучения моделей наилучший результат показала логистическая регрессия, наихудший - Дерево решений. \n",
    "В связи с этим модель Логистической регрессии подходит для решения поставленной задачи.Модель LogisticRegression на тесте показала значение метрики F1= 0.78."
   ]
  },
  {
   "cell_type": "code",
   "execution_count": null,
   "metadata": {},
   "outputs": [],
   "source": []
  }
 ],
 "metadata": {
  "ExecuteTimeLog": [
   {
    "duration": 2228,
    "start_time": "2023-04-23T14:00:12.407Z"
   },
   {
    "duration": 15,
    "start_time": "2023-04-23T14:00:53.407Z"
   },
   {
    "duration": 275,
    "start_time": "2023-04-23T14:01:46.205Z"
   },
   {
    "duration": 2776,
    "start_time": "2023-04-23T14:02:24.635Z"
   },
   {
    "duration": 221,
    "start_time": "2023-04-23T14:06:12.403Z"
   },
   {
    "duration": 6,
    "start_time": "2023-04-23T14:06:31.317Z"
   },
   {
    "duration": 982,
    "start_time": "2023-04-23T14:06:34.348Z"
   },
   {
    "duration": 29,
    "start_time": "2023-04-23T14:06:58.326Z"
   },
   {
    "duration": 6,
    "start_time": "2023-04-23T14:07:01.203Z"
   },
   {
    "duration": 928,
    "start_time": "2023-04-23T14:07:01.503Z"
   },
   {
    "duration": 11,
    "start_time": "2023-04-23T14:07:02.434Z"
   },
   {
    "duration": 35,
    "start_time": "2023-04-23T14:07:13.298Z"
   },
   {
    "duration": 6,
    "start_time": "2023-04-23T14:08:32.459Z"
   },
   {
    "duration": 982,
    "start_time": "2023-04-23T14:08:32.822Z"
   },
   {
    "duration": 32,
    "start_time": "2023-04-23T14:08:33.806Z"
   },
   {
    "duration": 9,
    "start_time": "2023-04-23T14:08:49.615Z"
   },
   {
    "duration": 7,
    "start_time": "2023-04-23T14:09:13.631Z"
   },
   {
    "duration": 941,
    "start_time": "2023-04-23T14:09:14.261Z"
   },
   {
    "duration": 33,
    "start_time": "2023-04-23T14:09:15.205Z"
   },
   {
    "duration": 7,
    "start_time": "2023-04-23T14:09:16.130Z"
   },
   {
    "duration": 4,
    "start_time": "2023-04-23T14:10:17.501Z"
   },
   {
    "duration": 19,
    "start_time": "2023-04-23T14:11:17.800Z"
   },
   {
    "duration": 18,
    "start_time": "2023-04-23T14:11:46.602Z"
   },
   {
    "duration": 6,
    "start_time": "2023-04-23T14:13:03.092Z"
   },
   {
    "duration": 251,
    "start_time": "2023-04-23T14:14:18.146Z"
   },
   {
    "duration": 6,
    "start_time": "2023-04-23T14:16:34.110Z"
   },
   {
    "duration": 9,
    "start_time": "2023-04-23T14:17:04.689Z"
   },
   {
    "duration": 1848,
    "start_time": "2023-04-23T14:34:12.286Z"
   },
   {
    "duration": 2369,
    "start_time": "2023-04-23T14:34:14.136Z"
   },
   {
    "duration": 38,
    "start_time": "2023-04-23T14:34:16.507Z"
   },
   {
    "duration": 12,
    "start_time": "2023-04-23T14:34:16.547Z"
   },
   {
    "duration": 5,
    "start_time": "2023-04-23T14:34:16.562Z"
   },
   {
    "duration": 33,
    "start_time": "2023-04-23T14:34:16.568Z"
   },
   {
    "duration": 8,
    "start_time": "2023-04-23T14:34:16.603Z"
   },
   {
    "duration": 281,
    "start_time": "2023-04-23T14:34:16.612Z"
   },
   {
    "duration": 1938,
    "start_time": "2023-04-23T14:40:02.755Z"
   },
   {
    "duration": 912,
    "start_time": "2023-04-23T14:40:04.695Z"
   },
   {
    "duration": 34,
    "start_time": "2023-04-23T14:40:05.608Z"
   },
   {
    "duration": 34,
    "start_time": "2023-04-23T14:40:05.644Z"
   },
   {
    "duration": 12,
    "start_time": "2023-04-23T14:40:05.680Z"
   },
   {
    "duration": 30,
    "start_time": "2023-04-23T14:40:05.694Z"
   },
   {
    "duration": 18,
    "start_time": "2023-04-23T14:40:05.725Z"
   },
   {
    "duration": 264,
    "start_time": "2023-04-23T14:40:05.745Z"
   },
   {
    "duration": 1801,
    "start_time": "2023-04-23T15:04:09.840Z"
   },
   {
    "duration": 876,
    "start_time": "2023-04-23T15:04:11.643Z"
   },
   {
    "duration": 32,
    "start_time": "2023-04-23T15:04:12.521Z"
   },
   {
    "duration": 13,
    "start_time": "2023-04-23T15:04:12.554Z"
   },
   {
    "duration": 20,
    "start_time": "2023-04-23T15:04:12.569Z"
   },
   {
    "duration": 20,
    "start_time": "2023-04-23T15:04:12.591Z"
   },
   {
    "duration": 11,
    "start_time": "2023-04-23T15:04:12.613Z"
   },
   {
    "duration": 270,
    "start_time": "2023-04-23T15:04:12.626Z"
   },
   {
    "duration": 52,
    "start_time": "2023-04-23T15:05:13.242Z"
   },
   {
    "duration": 1861,
    "start_time": "2023-04-23T15:05:21.427Z"
   },
   {
    "duration": 2364,
    "start_time": "2023-04-23T15:05:23.290Z"
   },
   {
    "duration": 35,
    "start_time": "2023-04-23T15:05:25.655Z"
   },
   {
    "duration": 21,
    "start_time": "2023-04-23T15:05:25.692Z"
   },
   {
    "duration": 25,
    "start_time": "2023-04-23T15:05:25.715Z"
   },
   {
    "duration": 37,
    "start_time": "2023-04-23T15:05:25.742Z"
   },
   {
    "duration": 18,
    "start_time": "2023-04-23T15:05:25.780Z"
   },
   {
    "duration": 260,
    "start_time": "2023-04-23T15:05:25.799Z"
   },
   {
    "duration": 35,
    "start_time": "2023-04-23T15:05:26.061Z"
   },
   {
    "duration": 4,
    "start_time": "2023-04-23T15:07:57.033Z"
   },
   {
    "duration": 1835,
    "start_time": "2023-04-23T15:09:01.660Z"
   },
   {
    "duration": 909,
    "start_time": "2023-04-23T15:09:03.498Z"
   },
   {
    "duration": 34,
    "start_time": "2023-04-23T15:09:04.408Z"
   },
   {
    "duration": 14,
    "start_time": "2023-04-23T15:09:04.443Z"
   },
   {
    "duration": 5,
    "start_time": "2023-04-23T15:09:04.459Z"
   },
   {
    "duration": 21,
    "start_time": "2023-04-23T15:09:04.487Z"
   },
   {
    "duration": 13,
    "start_time": "2023-04-23T15:09:04.510Z"
   },
   {
    "duration": 282,
    "start_time": "2023-04-23T15:09:04.525Z"
   },
   {
    "duration": 1874,
    "start_time": "2023-04-23T15:09:45.467Z"
   },
   {
    "duration": 2304,
    "start_time": "2023-04-23T15:09:47.343Z"
   },
   {
    "duration": 34,
    "start_time": "2023-04-23T15:09:49.649Z"
   },
   {
    "duration": 11,
    "start_time": "2023-04-23T15:09:49.685Z"
   },
   {
    "duration": 7,
    "start_time": "2023-04-23T15:09:49.698Z"
   },
   {
    "duration": 22,
    "start_time": "2023-04-23T15:09:49.706Z"
   },
   {
    "duration": 15,
    "start_time": "2023-04-23T15:09:49.730Z"
   },
   {
    "duration": 261,
    "start_time": "2023-04-23T15:09:49.747Z"
   },
   {
    "duration": 33,
    "start_time": "2023-04-23T15:09:50.010Z"
   },
   {
    "duration": 22,
    "start_time": "2023-04-23T15:09:50.045Z"
   },
   {
    "duration": 1812,
    "start_time": "2023-04-23T15:16:46.891Z"
   },
   {
    "duration": 909,
    "start_time": "2023-04-23T15:16:48.706Z"
   },
   {
    "duration": 36,
    "start_time": "2023-04-23T15:16:49.617Z"
   },
   {
    "duration": 11,
    "start_time": "2023-04-23T15:16:49.655Z"
   },
   {
    "duration": 5,
    "start_time": "2023-04-23T15:16:49.686Z"
   },
   {
    "duration": 21,
    "start_time": "2023-04-23T15:16:49.694Z"
   },
   {
    "duration": 10,
    "start_time": "2023-04-23T15:16:49.717Z"
   },
   {
    "duration": 289,
    "start_time": "2023-04-23T15:16:49.729Z"
   },
   {
    "duration": 35,
    "start_time": "2023-04-23T15:16:50.020Z"
   },
   {
    "duration": 47,
    "start_time": "2023-04-23T15:16:50.057Z"
   },
   {
    "duration": 1178,
    "start_time": "2023-04-23T15:18:10.574Z"
   },
   {
    "duration": 1849,
    "start_time": "2023-04-23T15:20:03.672Z"
   },
   {
    "duration": 892,
    "start_time": "2023-04-23T15:20:05.523Z"
   },
   {
    "duration": 41,
    "start_time": "2023-04-23T15:20:06.417Z"
   },
   {
    "duration": 16,
    "start_time": "2023-04-23T15:20:06.459Z"
   },
   {
    "duration": 6,
    "start_time": "2023-04-23T15:20:06.487Z"
   },
   {
    "duration": 30,
    "start_time": "2023-04-23T15:20:06.494Z"
   },
   {
    "duration": 16,
    "start_time": "2023-04-23T15:20:06.527Z"
   },
   {
    "duration": 267,
    "start_time": "2023-04-23T15:20:06.545Z"
   },
   {
    "duration": 1921,
    "start_time": "2023-04-23T15:20:50.294Z"
   },
   {
    "duration": 2337,
    "start_time": "2023-04-23T15:20:52.217Z"
   },
   {
    "duration": 35,
    "start_time": "2023-04-23T15:20:54.555Z"
   },
   {
    "duration": 12,
    "start_time": "2023-04-23T15:20:54.592Z"
   },
   {
    "duration": 5,
    "start_time": "2023-04-23T15:20:54.606Z"
   },
   {
    "duration": 23,
    "start_time": "2023-04-23T15:20:54.612Z"
   },
   {
    "duration": 19,
    "start_time": "2023-04-23T15:20:54.637Z"
   },
   {
    "duration": 270,
    "start_time": "2023-04-23T15:20:54.658Z"
   },
   {
    "duration": 36,
    "start_time": "2023-04-23T15:20:54.930Z"
   },
   {
    "duration": 22,
    "start_time": "2023-04-23T15:20:54.969Z"
   },
   {
    "duration": 5,
    "start_time": "2023-04-23T15:21:37.073Z"
   },
   {
    "duration": 1912,
    "start_time": "2023-04-23T15:21:48.882Z"
   },
   {
    "duration": 933,
    "start_time": "2023-04-23T15:21:50.797Z"
   },
   {
    "duration": 36,
    "start_time": "2023-04-23T15:21:51.732Z"
   },
   {
    "duration": 30,
    "start_time": "2023-04-23T15:21:51.770Z"
   },
   {
    "duration": 20,
    "start_time": "2023-04-23T15:21:51.802Z"
   },
   {
    "duration": 37,
    "start_time": "2023-04-23T15:21:51.824Z"
   },
   {
    "duration": 13,
    "start_time": "2023-04-23T15:21:51.863Z"
   },
   {
    "duration": 282,
    "start_time": "2023-04-23T15:21:51.878Z"
   },
   {
    "duration": 38,
    "start_time": "2023-04-23T15:21:52.161Z"
   },
   {
    "duration": 25,
    "start_time": "2023-04-23T15:21:52.201Z"
   },
   {
    "duration": 26,
    "start_time": "2023-04-23T15:21:52.228Z"
   },
   {
    "duration": 4,
    "start_time": "2023-04-23T15:23:11.536Z"
   },
   {
    "duration": 1748,
    "start_time": "2023-04-23T15:29:15.835Z"
   },
   {
    "duration": 921,
    "start_time": "2023-04-23T15:29:17.585Z"
   },
   {
    "duration": 33,
    "start_time": "2023-04-23T15:29:18.508Z"
   },
   {
    "duration": 18,
    "start_time": "2023-04-23T15:29:18.543Z"
   },
   {
    "duration": 13,
    "start_time": "2023-04-23T15:29:18.564Z"
   },
   {
    "duration": 29,
    "start_time": "2023-04-23T15:29:18.579Z"
   },
   {
    "duration": 12,
    "start_time": "2023-04-23T15:29:18.610Z"
   },
   {
    "duration": 261,
    "start_time": "2023-04-23T15:29:18.623Z"
   },
   {
    "duration": 34,
    "start_time": "2023-04-23T15:29:18.887Z"
   },
   {
    "duration": 12,
    "start_time": "2023-04-23T15:29:18.923Z"
   },
   {
    "duration": 3,
    "start_time": "2023-04-23T15:30:08.551Z"
   },
   {
    "duration": 4,
    "start_time": "2023-04-23T15:30:26.387Z"
   },
   {
    "duration": 197,
    "start_time": "2023-04-23T15:36:27.558Z"
   },
   {
    "duration": 2499,
    "start_time": "2023-04-23T15:37:15.056Z"
   },
   {
    "duration": 899,
    "start_time": "2023-04-23T15:37:17.557Z"
   },
   {
    "duration": 39,
    "start_time": "2023-04-23T15:37:18.457Z"
   },
   {
    "duration": 9,
    "start_time": "2023-04-23T15:37:18.499Z"
   },
   {
    "duration": 7,
    "start_time": "2023-04-23T15:37:18.509Z"
   },
   {
    "duration": 22,
    "start_time": "2023-04-23T15:37:18.517Z"
   },
   {
    "duration": 21,
    "start_time": "2023-04-23T15:37:18.541Z"
   },
   {
    "duration": 274,
    "start_time": "2023-04-23T15:37:18.564Z"
   },
   {
    "duration": 35,
    "start_time": "2023-04-23T15:37:18.840Z"
   },
   {
    "duration": 3,
    "start_time": "2023-04-23T15:37:18.887Z"
   },
   {
    "duration": 14,
    "start_time": "2023-04-23T15:37:18.892Z"
   },
   {
    "duration": 161969,
    "start_time": "2023-04-23T15:37:18.908Z"
   },
   {
    "duration": 1962,
    "start_time": "2023-04-23T15:40:27.256Z"
   },
   {
    "duration": 892,
    "start_time": "2023-04-23T15:40:29.220Z"
   },
   {
    "duration": 34,
    "start_time": "2023-04-23T15:40:30.114Z"
   },
   {
    "duration": 14,
    "start_time": "2023-04-23T15:40:30.149Z"
   },
   {
    "duration": 31,
    "start_time": "2023-04-23T15:40:30.165Z"
   },
   {
    "duration": 45,
    "start_time": "2023-04-23T15:40:30.198Z"
   },
   {
    "duration": 42,
    "start_time": "2023-04-23T15:40:30.244Z"
   },
   {
    "duration": 295,
    "start_time": "2023-04-23T15:40:30.287Z"
   },
   {
    "duration": 38,
    "start_time": "2023-04-23T15:40:30.586Z"
   },
   {
    "duration": 70,
    "start_time": "2023-04-23T15:40:30.627Z"
   },
   {
    "duration": 73,
    "start_time": "2023-04-23T15:40:30.700Z"
   },
   {
    "duration": 2487,
    "start_time": "2023-04-23T17:18:10.311Z"
   },
   {
    "duration": 2539,
    "start_time": "2023-04-23T17:18:12.801Z"
   },
   {
    "duration": 34,
    "start_time": "2023-04-23T17:18:15.342Z"
   },
   {
    "duration": 10,
    "start_time": "2023-04-23T17:18:15.378Z"
   },
   {
    "duration": 18,
    "start_time": "2023-04-23T17:18:15.391Z"
   },
   {
    "duration": 35,
    "start_time": "2023-04-23T17:18:15.411Z"
   },
   {
    "duration": 35,
    "start_time": "2023-04-23T17:18:15.448Z"
   },
   {
    "duration": 237,
    "start_time": "2023-04-23T17:18:15.485Z"
   },
   {
    "duration": 32,
    "start_time": "2023-04-23T17:18:15.724Z"
   },
   {
    "duration": 16,
    "start_time": "2023-04-23T17:18:15.758Z"
   },
   {
    "duration": 26,
    "start_time": "2023-04-23T17:18:15.776Z"
   },
   {
    "duration": 2023,
    "start_time": "2023-04-23T17:19:07.830Z"
   },
   {
    "duration": 884,
    "start_time": "2023-04-23T17:19:09.856Z"
   },
   {
    "duration": 39,
    "start_time": "2023-04-23T17:19:10.743Z"
   },
   {
    "duration": 19,
    "start_time": "2023-04-23T17:19:10.785Z"
   },
   {
    "duration": 4,
    "start_time": "2023-04-23T17:19:10.818Z"
   },
   {
    "duration": 34,
    "start_time": "2023-04-23T17:19:10.823Z"
   },
   {
    "duration": 28,
    "start_time": "2023-04-23T17:19:10.858Z"
   },
   {
    "duration": 248,
    "start_time": "2023-04-23T17:19:10.887Z"
   },
   {
    "duration": 33,
    "start_time": "2023-04-23T17:19:11.137Z"
   },
   {
    "duration": 17,
    "start_time": "2023-04-23T17:19:11.174Z"
   },
   {
    "duration": 18,
    "start_time": "2023-04-23T17:19:11.194Z"
   },
   {
    "duration": 1261653,
    "start_time": "2023-04-23T17:19:11.214Z"
   },
   {
    "duration": 4,
    "start_time": "2023-04-23T17:46:22.222Z"
   },
   {
    "duration": 4,
    "start_time": "2023-04-23T17:47:04.075Z"
   },
   {
    "duration": 2368,
    "start_time": "2023-04-24T06:48:44.129Z"
   },
   {
    "duration": 3169,
    "start_time": "2023-04-24T06:48:46.499Z"
   },
   {
    "duration": 31,
    "start_time": "2023-04-24T06:48:49.669Z"
   },
   {
    "duration": 9,
    "start_time": "2023-04-24T06:48:49.702Z"
   },
   {
    "duration": 4,
    "start_time": "2023-04-24T06:48:49.713Z"
   },
   {
    "duration": 23,
    "start_time": "2023-04-24T06:48:49.719Z"
   },
   {
    "duration": 11,
    "start_time": "2023-04-24T06:48:49.744Z"
   },
   {
    "duration": 261,
    "start_time": "2023-04-24T06:48:49.757Z"
   },
   {
    "duration": 32,
    "start_time": "2023-04-24T06:48:50.022Z"
   },
   {
    "duration": 5,
    "start_time": "2023-04-24T06:48:50.056Z"
   },
   {
    "duration": 4,
    "start_time": "2023-04-24T06:48:50.062Z"
   },
   {
    "duration": 2481,
    "start_time": "2023-04-25T10:50:42.052Z"
   },
   {
    "duration": 3812,
    "start_time": "2023-04-25T10:50:44.535Z"
   },
   {
    "duration": 27,
    "start_time": "2023-04-25T10:50:48.348Z"
   },
   {
    "duration": 9,
    "start_time": "2023-04-25T10:50:48.377Z"
   },
   {
    "duration": 20,
    "start_time": "2023-04-25T10:50:48.388Z"
   },
   {
    "duration": 28,
    "start_time": "2023-04-25T10:50:48.410Z"
   },
   {
    "duration": 11,
    "start_time": "2023-04-25T10:50:48.440Z"
   },
   {
    "duration": 235,
    "start_time": "2023-04-25T10:50:48.453Z"
   },
   {
    "duration": 30,
    "start_time": "2023-04-25T10:50:48.689Z"
   },
   {
    "duration": 19,
    "start_time": "2023-04-25T10:50:48.721Z"
   },
   {
    "duration": 5,
    "start_time": "2023-04-25T10:50:48.742Z"
   },
   {
    "duration": 1265404,
    "start_time": "2023-04-25T10:50:48.749Z"
   },
   {
    "duration": 5,
    "start_time": "2023-04-25T11:11:54.156Z"
   },
   {
    "duration": 20,
    "start_time": "2023-04-25T11:11:54.165Z"
   },
   {
    "duration": 50,
    "start_time": "2023-04-25T11:11:59.000Z"
   },
   {
    "duration": 142,
    "start_time": "2023-04-25T11:12:04.515Z"
   },
   {
    "duration": 32,
    "start_time": "2023-04-25T11:12:13.438Z"
   },
   {
    "duration": 71,
    "start_time": "2023-04-25T11:12:17.212Z"
   },
   {
    "duration": 4,
    "start_time": "2023-04-25T11:12:18.660Z"
   },
   {
    "duration": 60,
    "start_time": "2023-04-25T11:12:50.849Z"
   },
   {
    "duration": 221,
    "start_time": "2023-04-25T11:56:23.954Z"
   },
   {
    "duration": 1582,
    "start_time": "2023-04-25T12:00:13.556Z"
   },
   {
    "duration": 7057,
    "start_time": "2023-04-25T12:04:11.505Z"
   },
   {
    "duration": 503,
    "start_time": "2023-04-25T12:05:03.325Z"
   },
   {
    "duration": 2345,
    "start_time": "2023-04-25T12:05:39.306Z"
   },
   {
    "duration": 901,
    "start_time": "2023-04-25T12:17:34.260Z"
   },
   {
    "duration": 5067,
    "start_time": "2023-04-25T12:22:37.953Z"
   },
   {
    "duration": 5096,
    "start_time": "2023-04-25T12:23:38.396Z"
   },
   {
    "duration": 48,
    "start_time": "2023-04-25T12:29:02.952Z"
   },
   {
    "duration": 0,
    "start_time": "2023-04-25T12:29:03.001Z"
   },
   {
    "duration": 0,
    "start_time": "2023-04-25T12:29:03.003Z"
   },
   {
    "duration": 7,
    "start_time": "2023-04-25T12:29:29.893Z"
   },
   {
    "duration": 6,
    "start_time": "2023-04-25T12:29:35.888Z"
   },
   {
    "duration": 1933,
    "start_time": "2023-04-25T12:29:41.317Z"
   },
   {
    "duration": 3802,
    "start_time": "2023-04-25T12:29:43.252Z"
   },
   {
    "duration": 32,
    "start_time": "2023-04-25T12:29:47.055Z"
   },
   {
    "duration": 15,
    "start_time": "2023-04-25T12:29:47.089Z"
   },
   {
    "duration": 9,
    "start_time": "2023-04-25T12:29:47.106Z"
   },
   {
    "duration": 20,
    "start_time": "2023-04-25T12:29:47.117Z"
   },
   {
    "duration": 13,
    "start_time": "2023-04-25T12:29:47.138Z"
   },
   {
    "duration": 235,
    "start_time": "2023-04-25T12:29:47.152Z"
   },
   {
    "duration": 32,
    "start_time": "2023-04-25T12:29:47.389Z"
   },
   {
    "duration": 3,
    "start_time": "2023-04-25T12:29:47.430Z"
   },
   {
    "duration": 11,
    "start_time": "2023-04-25T12:29:47.435Z"
   },
   {
    "duration": 172725,
    "start_time": "2023-04-25T12:29:47.447Z"
   },
   {
    "duration": 0,
    "start_time": "2023-04-25T12:32:40.174Z"
   },
   {
    "duration": 0,
    "start_time": "2023-04-25T12:32:40.175Z"
   },
   {
    "duration": 0,
    "start_time": "2023-04-25T12:32:40.185Z"
   },
   {
    "duration": 0,
    "start_time": "2023-04-25T12:32:40.187Z"
   },
   {
    "duration": 0,
    "start_time": "2023-04-25T12:32:40.188Z"
   },
   {
    "duration": 0,
    "start_time": "2023-04-25T12:32:40.189Z"
   },
   {
    "duration": 0,
    "start_time": "2023-04-25T12:32:40.190Z"
   },
   {
    "duration": 0,
    "start_time": "2023-04-25T12:32:40.191Z"
   },
   {
    "duration": 0,
    "start_time": "2023-04-25T12:32:40.192Z"
   },
   {
    "duration": 0,
    "start_time": "2023-04-25T12:32:40.193Z"
   },
   {
    "duration": 0,
    "start_time": "2023-04-25T12:32:40.194Z"
   },
   {
    "duration": 0,
    "start_time": "2023-04-25T12:32:40.195Z"
   },
   {
    "duration": 1784,
    "start_time": "2023-04-25T12:32:44.834Z"
   },
   {
    "duration": 823,
    "start_time": "2023-04-25T12:32:46.620Z"
   },
   {
    "duration": 29,
    "start_time": "2023-04-25T12:32:47.445Z"
   },
   {
    "duration": 10,
    "start_time": "2023-04-25T12:32:47.484Z"
   },
   {
    "duration": 4,
    "start_time": "2023-04-25T12:32:47.496Z"
   },
   {
    "duration": 19,
    "start_time": "2023-04-25T12:32:47.501Z"
   },
   {
    "duration": 8,
    "start_time": "2023-04-25T12:32:47.522Z"
   },
   {
    "duration": 255,
    "start_time": "2023-04-25T12:32:47.532Z"
   },
   {
    "duration": 31,
    "start_time": "2023-04-25T12:32:47.789Z"
   },
   {
    "duration": 4,
    "start_time": "2023-04-25T12:32:47.829Z"
   },
   {
    "duration": 5,
    "start_time": "2023-04-25T12:32:47.835Z"
   },
   {
    "duration": 1255747,
    "start_time": "2023-04-25T12:32:47.842Z"
   },
   {
    "duration": 5,
    "start_time": "2023-04-25T12:53:43.591Z"
   },
   {
    "duration": 9,
    "start_time": "2023-04-25T12:53:43.598Z"
   },
   {
    "duration": 62,
    "start_time": "2023-04-25T12:53:43.609Z"
   },
   {
    "duration": 43,
    "start_time": "2023-04-25T12:53:43.673Z"
   },
   {
    "duration": 87,
    "start_time": "2023-04-25T12:53:43.718Z"
   },
   {
    "duration": 5,
    "start_time": "2023-04-25T12:53:43.807Z"
   },
   {
    "duration": 8,
    "start_time": "2023-04-25T12:53:43.813Z"
   },
   {
    "duration": 1584,
    "start_time": "2023-04-25T12:53:43.822Z"
   },
   {
    "duration": 6927,
    "start_time": "2023-04-25T12:53:45.408Z"
   },
   {
    "duration": 526,
    "start_time": "2023-04-25T12:53:52.337Z"
   },
   {
    "duration": 2319,
    "start_time": "2023-04-25T12:53:52.864Z"
   },
   {
    "duration": 1795,
    "start_time": "2023-04-25T13:25:35.011Z"
   },
   {
    "duration": 805,
    "start_time": "2023-04-25T13:25:36.808Z"
   },
   {
    "duration": 38,
    "start_time": "2023-04-25T13:25:37.614Z"
   },
   {
    "duration": 9,
    "start_time": "2023-04-25T13:25:37.653Z"
   },
   {
    "duration": 23,
    "start_time": "2023-04-25T13:25:37.664Z"
   },
   {
    "duration": 18,
    "start_time": "2023-04-25T13:25:37.688Z"
   },
   {
    "duration": 12,
    "start_time": "2023-04-25T13:25:37.708Z"
   },
   {
    "duration": 235,
    "start_time": "2023-04-25T13:25:37.722Z"
   },
   {
    "duration": 35,
    "start_time": "2023-04-25T13:25:37.959Z"
   },
   {
    "duration": 5,
    "start_time": "2023-04-25T13:25:37.996Z"
   },
   {
    "duration": 5,
    "start_time": "2023-04-25T13:25:38.002Z"
   },
   {
    "duration": 3606,
    "start_time": "2023-04-25T17:30:38.600Z"
   },
   {
    "duration": 3831,
    "start_time": "2023-04-25T17:30:42.208Z"
   },
   {
    "duration": 40,
    "start_time": "2023-04-25T17:30:46.042Z"
   },
   {
    "duration": 20,
    "start_time": "2023-04-25T17:30:46.085Z"
   },
   {
    "duration": 4,
    "start_time": "2023-04-25T17:30:46.107Z"
   },
   {
    "duration": 27,
    "start_time": "2023-04-25T17:30:46.114Z"
   },
   {
    "duration": 10,
    "start_time": "2023-04-25T17:30:46.144Z"
   },
   {
    "duration": 286,
    "start_time": "2023-04-25T17:30:46.193Z"
   },
   {
    "duration": 37,
    "start_time": "2023-04-25T17:30:46.481Z"
   },
   {
    "duration": 6,
    "start_time": "2023-04-25T17:30:46.522Z"
   },
   {
    "duration": 5,
    "start_time": "2023-04-25T17:30:46.530Z"
   },
   {
    "duration": 922943,
    "start_time": "2023-04-25T17:56:02.976Z"
   },
   {
    "duration": 6,
    "start_time": "2023-04-25T18:40:43.354Z"
   },
   {
    "duration": 7,
    "start_time": "2023-04-25T18:40:56.412Z"
   },
   {
    "duration": 20,
    "start_time": "2023-04-25T18:41:08.228Z"
   },
   {
    "duration": 1008334,
    "start_time": "2023-04-25T18:42:52.922Z"
   },
   {
    "duration": 6,
    "start_time": "2023-04-25T19:00:06.992Z"
   },
   {
    "duration": 5,
    "start_time": "2023-04-25T19:00:08.160Z"
   },
   {
    "duration": 28,
    "start_time": "2023-04-25T19:00:09.080Z"
   },
   {
    "duration": 4682122,
    "start_time": "2023-04-25T19:00:12.390Z"
   },
   {
    "duration": 6,
    "start_time": "2023-04-25T20:18:14.519Z"
   },
   {
    "duration": 4,
    "start_time": "2023-04-25T20:18:14.527Z"
   },
   {
    "duration": 51,
    "start_time": "2023-04-25T20:18:14.533Z"
   },
   {
    "duration": 3195,
    "start_time": "2023-04-26T07:13:19.253Z"
   },
   {
    "duration": 4464,
    "start_time": "2023-04-26T07:13:22.450Z"
   },
   {
    "duration": 41,
    "start_time": "2023-04-26T07:13:26.916Z"
   },
   {
    "duration": 18,
    "start_time": "2023-04-26T07:13:26.960Z"
   },
   {
    "duration": 6,
    "start_time": "2023-04-26T07:13:26.980Z"
   },
   {
    "duration": 30,
    "start_time": "2023-04-26T07:13:26.988Z"
   },
   {
    "duration": 39,
    "start_time": "2023-04-26T07:13:27.020Z"
   },
   {
    "duration": 308,
    "start_time": "2023-04-26T07:13:27.061Z"
   },
   {
    "duration": 48,
    "start_time": "2023-04-26T07:13:27.372Z"
   },
   {
    "duration": 9,
    "start_time": "2023-04-26T07:13:27.441Z"
   },
   {
    "duration": 25,
    "start_time": "2023-04-26T07:13:27.452Z"
   },
   {
    "duration": 1212397,
    "start_time": "2023-04-26T07:13:27.479Z"
   },
   {
    "duration": 3,
    "start_time": "2023-04-26T07:33:39.878Z"
   },
   {
    "duration": 7,
    "start_time": "2023-04-26T07:33:39.882Z"
   },
   {
    "duration": 65,
    "start_time": "2023-04-26T07:33:39.891Z"
   },
   {
    "duration": 37,
    "start_time": "2023-04-26T07:33:39.958Z"
   },
   {
    "duration": 85,
    "start_time": "2023-04-26T07:33:39.997Z"
   },
   {
    "duration": 5,
    "start_time": "2023-04-26T07:33:40.084Z"
   },
   {
    "duration": 7,
    "start_time": "2023-04-26T07:33:40.091Z"
   },
   {
    "duration": 1443,
    "start_time": "2023-04-26T07:33:40.100Z"
   },
   {
    "duration": 6285,
    "start_time": "2023-04-26T07:33:41.544Z"
   },
   {
    "duration": 468,
    "start_time": "2023-04-26T07:33:47.830Z"
   },
   {
    "duration": 2105,
    "start_time": "2023-04-26T07:33:48.301Z"
   },
   {
    "duration": 734854,
    "start_time": "2023-04-26T07:49:49.414Z"
   },
   {
    "duration": 4,
    "start_time": "2023-04-26T08:02:04.269Z"
   },
   {
    "duration": 15,
    "start_time": "2023-04-26T08:02:04.275Z"
   },
   {
    "duration": 15,
    "start_time": "2023-04-26T08:02:04.292Z"
   },
   {
    "duration": 3865024,
    "start_time": "2023-04-26T08:02:04.308Z"
   },
   {
    "duration": 4,
    "start_time": "2023-04-26T09:06:29.334Z"
   },
   {
    "duration": 29,
    "start_time": "2023-04-26T09:06:29.340Z"
   },
   {
    "duration": 19,
    "start_time": "2023-04-26T09:06:29.371Z"
   },
   {
    "duration": 2593,
    "start_time": "2023-04-26T17:24:46.317Z"
   },
   {
    "duration": 1279,
    "start_time": "2023-04-26T17:24:48.912Z"
   },
   {
    "duration": 35,
    "start_time": "2023-04-26T17:24:50.194Z"
   },
   {
    "duration": 49,
    "start_time": "2023-04-26T17:24:50.231Z"
   },
   {
    "duration": 28,
    "start_time": "2023-04-26T17:24:50.282Z"
   },
   {
    "duration": 26,
    "start_time": "2023-04-26T17:24:50.312Z"
   },
   {
    "duration": 45,
    "start_time": "2023-04-26T17:24:50.340Z"
   },
   {
    "duration": 252,
    "start_time": "2023-04-26T17:24:50.387Z"
   },
   {
    "duration": 31,
    "start_time": "2023-04-26T17:24:50.641Z"
   },
   {
    "duration": 10,
    "start_time": "2023-04-26T17:24:50.685Z"
   },
   {
    "duration": 12,
    "start_time": "2023-04-26T17:24:50.696Z"
   },
   {
    "duration": 1172957,
    "start_time": "2023-04-26T17:24:50.711Z"
   },
   {
    "duration": 15,
    "start_time": "2023-04-26T17:44:23.670Z"
   },
   {
    "duration": 24,
    "start_time": "2023-04-26T17:44:23.686Z"
   },
   {
    "duration": 55,
    "start_time": "2023-04-26T17:44:23.712Z"
   },
   {
    "duration": 37,
    "start_time": "2023-04-26T17:44:23.769Z"
   },
   {
    "duration": 70,
    "start_time": "2023-04-26T17:44:23.808Z"
   },
   {
    "duration": 6,
    "start_time": "2023-04-26T17:44:23.883Z"
   },
   {
    "duration": 17,
    "start_time": "2023-04-26T17:44:23.890Z"
   },
   {
    "duration": 1571,
    "start_time": "2023-04-26T17:44:23.908Z"
   },
   {
    "duration": 6846,
    "start_time": "2023-04-26T17:44:25.483Z"
   },
   {
    "duration": 489,
    "start_time": "2023-04-26T17:44:32.330Z"
   },
   {
    "duration": 2197,
    "start_time": "2023-04-26T17:44:32.821Z"
   },
   {
    "duration": 982793,
    "start_time": "2023-04-26T17:44:35.020Z"
   },
   {
    "duration": 4,
    "start_time": "2023-04-26T18:00:57.814Z"
   },
   {
    "duration": 32,
    "start_time": "2023-04-26T18:00:57.820Z"
   },
   {
    "duration": 44,
    "start_time": "2023-04-26T18:00:57.854Z"
   },
   {
    "duration": 816492,
    "start_time": "2023-04-26T18:00:57.901Z"
   },
   {
    "duration": 4,
    "start_time": "2023-04-26T18:14:34.395Z"
   },
   {
    "duration": 21,
    "start_time": "2023-04-26T18:14:34.401Z"
   },
   {
    "duration": 36,
    "start_time": "2023-04-26T18:14:34.423Z"
   },
   {
    "duration": 3948737,
    "start_time": "2023-04-26T18:14:34.461Z"
   },
   {
    "duration": 4,
    "start_time": "2023-04-26T19:20:23.200Z"
   },
   {
    "duration": 8,
    "start_time": "2023-04-26T19:20:23.205Z"
   },
   {
    "duration": 15,
    "start_time": "2023-04-26T19:20:23.214Z"
   },
   {
    "duration": 4,
    "start_time": "2023-04-26T19:25:21.422Z"
   },
   {
    "duration": 80,
    "start_time": "2023-04-26T19:26:26.583Z"
   },
   {
    "duration": 8624,
    "start_time": "2023-04-26T19:30:41.331Z"
   },
   {
    "duration": 8542,
    "start_time": "2023-04-26T19:31:35.178Z"
   },
   {
    "duration": 15,
    "start_time": "2023-04-26T19:35:27.269Z"
   },
   {
    "duration": 387,
    "start_time": "2023-04-26T19:37:19.076Z"
   },
   {
    "duration": 230,
    "start_time": "2023-04-26T19:39:12.531Z"
   },
   {
    "duration": 82,
    "start_time": "2023-04-26T19:40:28.632Z"
   },
   {
    "duration": 166,
    "start_time": "2023-04-26T19:41:46.211Z"
   },
   {
    "duration": 19,
    "start_time": "2023-04-26T19:42:09.640Z"
   },
   {
    "duration": 18,
    "start_time": "2023-04-26T19:42:41.535Z"
   },
   {
    "duration": 19,
    "start_time": "2023-04-26T19:43:09.614Z"
   },
   {
    "duration": 2473,
    "start_time": "2023-04-28T06:27:00.198Z"
   },
   {
    "duration": 2265,
    "start_time": "2023-04-28T06:27:02.673Z"
   },
   {
    "duration": 23,
    "start_time": "2023-04-28T06:27:04.940Z"
   },
   {
    "duration": 8,
    "start_time": "2023-04-28T06:27:04.965Z"
   },
   {
    "duration": 5,
    "start_time": "2023-04-28T06:27:05.077Z"
   },
   {
    "duration": 15,
    "start_time": "2023-04-28T06:27:07.521Z"
   },
   {
    "duration": 7,
    "start_time": "2023-04-28T06:27:08.457Z"
   },
   {
    "duration": 221,
    "start_time": "2023-04-28T06:27:09.639Z"
   },
   {
    "duration": 27,
    "start_time": "2023-04-28T06:27:22.791Z"
   },
   {
    "duration": 3,
    "start_time": "2023-04-28T06:27:23.791Z"
   },
   {
    "duration": 8,
    "start_time": "2023-04-28T06:27:25.161Z"
   },
   {
    "duration": 15909,
    "start_time": "2023-04-28T06:27:27.133Z"
   },
   {
    "duration": 0,
    "start_time": "2023-04-28T06:27:43.043Z"
   },
   {
    "duration": 0,
    "start_time": "2023-04-28T06:27:43.044Z"
   },
   {
    "duration": 0,
    "start_time": "2023-04-28T06:27:43.045Z"
   },
   {
    "duration": 18,
    "start_time": "2023-04-28T06:29:17.671Z"
   },
   {
    "duration": 761,
    "start_time": "2023-04-28T06:29:18.060Z"
   },
   {
    "duration": 21,
    "start_time": "2023-04-28T06:29:18.823Z"
   },
   {
    "duration": 6,
    "start_time": "2023-04-28T06:29:18.965Z"
   },
   {
    "duration": 4,
    "start_time": "2023-04-28T06:29:19.375Z"
   },
   {
    "duration": 19,
    "start_time": "2023-04-28T06:29:19.887Z"
   },
   {
    "duration": 6,
    "start_time": "2023-04-28T06:29:20.127Z"
   },
   {
    "duration": 221,
    "start_time": "2023-04-28T06:29:20.363Z"
   },
   {
    "duration": 28,
    "start_time": "2023-04-28T06:29:21.370Z"
   },
   {
    "duration": 3,
    "start_time": "2023-04-28T06:29:21.610Z"
   },
   {
    "duration": 3,
    "start_time": "2023-04-28T06:29:21.823Z"
   },
   {
    "duration": 1102621,
    "start_time": "2023-04-28T06:29:22.064Z"
   },
   {
    "duration": 3,
    "start_time": "2023-04-28T06:47:44.687Z"
   },
   {
    "duration": 27,
    "start_time": "2023-04-28T06:47:44.691Z"
   },
   {
    "duration": 52,
    "start_time": "2023-04-28T06:47:44.720Z"
   },
   {
    "duration": 17,
    "start_time": "2023-04-28T06:47:44.773Z"
   },
   {
    "duration": 53,
    "start_time": "2023-04-28T06:47:44.792Z"
   },
   {
    "duration": 3,
    "start_time": "2023-04-28T06:47:44.847Z"
   },
   {
    "duration": 23,
    "start_time": "2023-04-28T06:47:44.851Z"
   },
   {
    "duration": 20,
    "start_time": "2023-04-28T06:47:44.875Z"
   },
   {
    "duration": 5108,
    "start_time": "2023-04-28T06:47:44.896Z"
   },
   {
    "duration": 4,
    "start_time": "2023-04-28T06:47:50.005Z"
   },
   {
    "duration": 550,
    "start_time": "2023-04-28T06:47:50.010Z"
   },
   {
    "duration": 3035,
    "start_time": "2023-04-29T09:39:29.015Z"
   },
   {
    "duration": 3369,
    "start_time": "2023-04-29T09:39:32.052Z"
   },
   {
    "duration": 39,
    "start_time": "2023-04-29T09:39:35.423Z"
   },
   {
    "duration": 19,
    "start_time": "2023-04-29T09:39:35.465Z"
   },
   {
    "duration": 5,
    "start_time": "2023-04-29T09:39:35.486Z"
   },
   {
    "duration": 48,
    "start_time": "2023-04-29T09:39:35.493Z"
   },
   {
    "duration": 10,
    "start_time": "2023-04-29T09:39:36.156Z"
   },
   {
    "duration": 265,
    "start_time": "2023-04-29T09:39:36.870Z"
   },
   {
    "duration": 33,
    "start_time": "2023-04-29T09:39:39.512Z"
   },
   {
    "duration": 4,
    "start_time": "2023-04-29T09:39:40.267Z"
   },
   {
    "duration": 12,
    "start_time": "2023-04-29T09:39:40.991Z"
   },
   {
    "duration": 832666,
    "start_time": "2023-04-29T09:39:41.711Z"
   },
   {
    "duration": 0,
    "start_time": "2023-04-29T09:53:34.380Z"
   },
   {
    "duration": 0,
    "start_time": "2023-04-29T09:53:34.382Z"
   },
   {
    "duration": 0,
    "start_time": "2023-04-29T09:53:34.385Z"
   },
   {
    "duration": 0,
    "start_time": "2023-04-29T09:53:34.392Z"
   },
   {
    "duration": 0,
    "start_time": "2023-04-29T09:53:34.393Z"
   },
   {
    "duration": 0,
    "start_time": "2023-04-29T09:53:34.394Z"
   },
   {
    "duration": 0,
    "start_time": "2023-04-29T09:53:34.395Z"
   },
   {
    "duration": 0,
    "start_time": "2023-04-29T09:53:34.401Z"
   },
   {
    "duration": 0,
    "start_time": "2023-04-29T09:53:34.402Z"
   },
   {
    "duration": 0,
    "start_time": "2023-04-29T09:53:34.404Z"
   },
   {
    "duration": 0,
    "start_time": "2023-04-29T09:53:34.405Z"
   },
   {
    "duration": 0,
    "start_time": "2023-04-29T09:53:34.406Z"
   },
   {
    "duration": 0,
    "start_time": "2023-04-29T09:53:34.406Z"
   },
   {
    "duration": 0,
    "start_time": "2023-04-29T09:53:34.407Z"
   },
   {
    "duration": 0,
    "start_time": "2023-04-29T09:53:34.409Z"
   },
   {
    "duration": 0,
    "start_time": "2023-04-29T09:53:34.411Z"
   },
   {
    "duration": 0,
    "start_time": "2023-04-29T09:53:34.412Z"
   },
   {
    "duration": 0,
    "start_time": "2023-04-29T09:53:34.413Z"
   },
   {
    "duration": 0,
    "start_time": "2023-04-29T09:53:34.414Z"
   },
   {
    "duration": 0,
    "start_time": "2023-04-29T09:53:34.415Z"
   },
   {
    "duration": 0,
    "start_time": "2023-04-29T09:53:34.416Z"
   },
   {
    "duration": 0,
    "start_time": "2023-04-29T09:53:34.418Z"
   },
   {
    "duration": 0,
    "start_time": "2023-04-29T09:53:34.419Z"
   },
   {
    "duration": 0,
    "start_time": "2023-04-29T09:53:34.420Z"
   },
   {
    "duration": 0,
    "start_time": "2023-04-29T09:53:34.422Z"
   },
   {
    "duration": 0,
    "start_time": "2023-04-29T09:53:34.423Z"
   },
   {
    "duration": 1922,
    "start_time": "2023-04-29T09:56:02.885Z"
   },
   {
    "duration": 838,
    "start_time": "2023-04-29T09:56:04.809Z"
   },
   {
    "duration": 40,
    "start_time": "2023-04-29T09:56:05.649Z"
   },
   {
    "duration": 10,
    "start_time": "2023-04-29T09:56:05.691Z"
   },
   {
    "duration": 6,
    "start_time": "2023-04-29T09:56:05.703Z"
   },
   {
    "duration": 31,
    "start_time": "2023-04-29T09:56:05.711Z"
   },
   {
    "duration": 9,
    "start_time": "2023-04-29T09:56:05.744Z"
   },
   {
    "duration": 278,
    "start_time": "2023-04-29T09:56:05.755Z"
   },
   {
    "duration": 33,
    "start_time": "2023-04-29T09:56:06.034Z"
   },
   {
    "duration": 20,
    "start_time": "2023-04-29T09:56:06.069Z"
   },
   {
    "duration": 11,
    "start_time": "2023-04-29T09:56:06.091Z"
   },
   {
    "duration": 1250034,
    "start_time": "2023-04-29T09:56:06.103Z"
   },
   {
    "duration": 4,
    "start_time": "2023-04-29T10:16:56.139Z"
   },
   {
    "duration": 15,
    "start_time": "2023-04-29T10:16:56.146Z"
   },
   {
    "duration": 66,
    "start_time": "2023-04-29T10:16:56.163Z"
   },
   {
    "duration": 36,
    "start_time": "2023-04-29T10:16:56.231Z"
   },
   {
    "duration": 91,
    "start_time": "2023-04-29T10:16:56.268Z"
   },
   {
    "duration": 5,
    "start_time": "2023-04-29T10:16:56.361Z"
   },
   {
    "duration": 27,
    "start_time": "2023-04-29T10:16:56.368Z"
   },
   {
    "duration": 5,
    "start_time": "2023-04-29T10:16:56.397Z"
   },
   {
    "duration": 6654,
    "start_time": "2023-04-29T10:16:56.403Z"
   },
   {
    "duration": 5,
    "start_time": "2023-04-29T10:17:03.059Z"
   },
   {
    "duration": 701,
    "start_time": "2023-04-29T10:17:03.065Z"
   },
   {
    "duration": 1889461,
    "start_time": "2023-04-29T10:17:03.768Z"
   },
   {
    "duration": 5,
    "start_time": "2023-04-29T10:48:33.231Z"
   },
   {
    "duration": 8,
    "start_time": "2023-04-29T10:48:33.237Z"
   },
   {
    "duration": 13,
    "start_time": "2023-04-29T10:48:33.247Z"
   },
   {
    "duration": 28,
    "start_time": "2023-04-29T10:48:33.262Z"
   },
   {
    "duration": 41,
    "start_time": "2023-04-29T10:48:33.292Z"
   },
   {
    "duration": 1111927,
    "start_time": "2023-04-29T10:48:33.335Z"
   },
   {
    "duration": 5,
    "start_time": "2023-04-29T11:07:05.264Z"
   },
   {
    "duration": 26,
    "start_time": "2023-04-29T11:07:05.270Z"
   },
   {
    "duration": 14,
    "start_time": "2023-04-29T11:07:05.298Z"
   },
   {
    "duration": 8,
    "start_time": "2023-04-29T11:07:05.314Z"
   },
   {
    "duration": 37,
    "start_time": "2023-04-29T11:07:05.324Z"
   },
   {
    "duration": 5836240,
    "start_time": "2023-04-29T11:07:05.364Z"
   },
   {
    "duration": 5,
    "start_time": "2023-04-29T12:44:21.605Z"
   },
   {
    "duration": 8,
    "start_time": "2023-04-29T12:44:21.611Z"
   },
   {
    "duration": 15,
    "start_time": "2023-04-29T12:44:21.621Z"
   },
   {
    "duration": 9,
    "start_time": "2023-04-29T12:44:21.638Z"
   },
   {
    "duration": 59,
    "start_time": "2023-04-29T12:44:21.652Z"
   },
   {
    "duration": 4,
    "start_time": "2023-04-29T12:44:21.714Z"
   },
   {
    "duration": 10007,
    "start_time": "2023-04-29T12:44:21.720Z"
   },
   {
    "duration": 19633,
    "start_time": "2023-04-29T14:51:27.009Z"
   },
   {
    "duration": 161,
    "start_time": "2023-04-29T16:29:42.513Z"
   },
   {
    "duration": 791,
    "start_time": "2023-04-29T16:29:43.832Z"
   },
   {
    "duration": 31,
    "start_time": "2023-04-29T16:29:44.626Z"
   },
   {
    "duration": 8,
    "start_time": "2023-04-29T16:29:44.832Z"
   },
   {
    "duration": 5,
    "start_time": "2023-04-29T16:29:45.362Z"
   },
   {
    "duration": 19,
    "start_time": "2023-04-29T16:29:46.522Z"
   },
   {
    "duration": 7,
    "start_time": "2023-04-29T16:29:47.122Z"
   },
   {
    "duration": 229,
    "start_time": "2023-04-29T16:29:47.758Z"
   },
   {
    "duration": 34,
    "start_time": "2023-04-29T16:29:50.509Z"
   },
   {
    "duration": 138,
    "start_time": "2023-04-29T16:30:15.446Z"
   },
   {
    "duration": 4,
    "start_time": "2023-04-29T16:30:16.691Z"
   },
   {
    "duration": 740,
    "start_time": "2023-04-29T16:30:17.301Z"
   },
   {
    "duration": 32,
    "start_time": "2023-04-29T16:30:19.053Z"
   },
   {
    "duration": 9,
    "start_time": "2023-04-29T16:30:31.545Z"
   },
   {
    "duration": 804,
    "start_time": "2023-04-29T16:30:33.455Z"
   },
   {
    "duration": 31,
    "start_time": "2023-04-29T16:30:34.305Z"
   },
   {
    "duration": 7,
    "start_time": "2023-04-29T16:30:35.345Z"
   },
   {
    "duration": 3,
    "start_time": "2023-04-29T16:30:36.306Z"
   },
   {
    "duration": 17,
    "start_time": "2023-04-29T16:30:37.981Z"
   },
   {
    "duration": 10,
    "start_time": "2023-04-29T16:30:38.771Z"
   },
   {
    "duration": 239,
    "start_time": "2023-04-29T16:30:39.707Z"
   },
   {
    "duration": 39,
    "start_time": "2023-04-29T16:30:42.477Z"
   },
   {
    "duration": 5,
    "start_time": "2023-04-29T16:30:43.227Z"
   },
   {
    "duration": 4,
    "start_time": "2023-04-29T16:30:43.881Z"
   },
   {
    "duration": 4,
    "start_time": "2023-04-29T16:30:44.565Z"
   },
   {
    "duration": 11,
    "start_time": "2023-04-29T16:30:45.677Z"
   },
   {
    "duration": 145394,
    "start_time": "2023-04-29T16:31:03.335Z"
   },
   {
    "duration": 0,
    "start_time": "2023-04-29T16:33:28.732Z"
   },
   {
    "duration": 0,
    "start_time": "2023-04-29T16:33:28.733Z"
   },
   {
    "duration": 0,
    "start_time": "2023-04-29T16:33:28.734Z"
   },
   {
    "duration": 0,
    "start_time": "2023-04-29T16:33:28.736Z"
   },
   {
    "duration": 0,
    "start_time": "2023-04-29T16:33:28.737Z"
   },
   {
    "duration": 10,
    "start_time": "2023-04-29T16:33:35.283Z"
   },
   {
    "duration": 824,
    "start_time": "2023-04-29T16:33:36.322Z"
   },
   {
    "duration": 45,
    "start_time": "2023-04-29T16:33:37.148Z"
   },
   {
    "duration": 10,
    "start_time": "2023-04-29T16:33:37.195Z"
   },
   {
    "duration": 7,
    "start_time": "2023-04-29T16:33:37.397Z"
   },
   {
    "duration": 18,
    "start_time": "2023-04-29T16:33:38.542Z"
   },
   {
    "duration": 8,
    "start_time": "2023-04-29T16:33:39.232Z"
   },
   {
    "duration": 246,
    "start_time": "2023-04-29T16:33:39.710Z"
   },
   {
    "duration": 36,
    "start_time": "2023-04-29T16:33:41.737Z"
   },
   {
    "duration": 4,
    "start_time": "2023-04-29T16:33:42.315Z"
   },
   {
    "duration": 6,
    "start_time": "2023-04-29T16:33:42.761Z"
   },
   {
    "duration": 937968,
    "start_time": "2023-04-29T16:33:43.294Z"
   },
   {
    "duration": 0,
    "start_time": "2023-04-29T16:49:21.264Z"
   },
   {
    "duration": 0,
    "start_time": "2023-04-29T16:49:21.265Z"
   },
   {
    "duration": 0,
    "start_time": "2023-04-29T16:49:21.266Z"
   },
   {
    "duration": 0,
    "start_time": "2023-04-29T16:49:21.267Z"
   },
   {
    "duration": 0,
    "start_time": "2023-04-29T16:49:21.268Z"
   },
   {
    "duration": 53,
    "start_time": "2023-04-29T16:49:30.888Z"
   },
   {
    "duration": 873,
    "start_time": "2023-04-29T16:49:32.944Z"
   },
   {
    "duration": 33,
    "start_time": "2023-04-29T16:49:33.819Z"
   },
   {
    "duration": 9,
    "start_time": "2023-04-29T16:49:34.730Z"
   },
   {
    "duration": 4,
    "start_time": "2023-04-29T16:49:35.452Z"
   },
   {
    "duration": 18,
    "start_time": "2023-04-29T16:49:36.850Z"
   },
   {
    "duration": 8,
    "start_time": "2023-04-29T16:49:37.701Z"
   },
   {
    "duration": 245,
    "start_time": "2023-04-29T16:49:38.586Z"
   },
   {
    "duration": 35,
    "start_time": "2023-04-29T16:49:41.544Z"
   },
   {
    "duration": 3,
    "start_time": "2023-04-29T16:49:42.316Z"
   },
   {
    "duration": 4,
    "start_time": "2023-04-29T16:49:43.021Z"
   },
   {
    "duration": 1437052,
    "start_time": "2023-04-29T16:49:43.814Z"
   },
   {
    "duration": 5,
    "start_time": "2023-04-29T17:13:40.868Z"
   },
   {
    "duration": 15,
    "start_time": "2023-04-29T17:13:40.875Z"
   },
   {
    "duration": 73,
    "start_time": "2023-04-29T17:13:40.893Z"
   },
   {
    "duration": 75,
    "start_time": "2023-04-29T17:13:40.969Z"
   },
   {
    "duration": 111,
    "start_time": "2023-04-29T17:13:41.046Z"
   },
   {
    "duration": 5,
    "start_time": "2023-04-29T17:13:41.159Z"
   },
   {
    "duration": 6,
    "start_time": "2023-04-29T17:13:41.166Z"
   },
   {
    "duration": 50,
    "start_time": "2023-04-29T17:13:41.189Z"
   },
   {
    "duration": 8043,
    "start_time": "2023-04-29T17:13:41.242Z"
   },
   {
    "duration": 18,
    "start_time": "2023-04-29T17:13:49.287Z"
   },
   {
    "duration": 916,
    "start_time": "2023-04-29T17:13:49.314Z"
   },
   {
    "duration": 2751,
    "start_time": "2023-04-29T18:10:45.904Z"
   },
   {
    "duration": 1026,
    "start_time": "2023-04-29T18:10:48.657Z"
   },
   {
    "duration": 43,
    "start_time": "2023-04-29T18:10:49.685Z"
   },
   {
    "duration": 30,
    "start_time": "2023-04-29T18:10:49.730Z"
   },
   {
    "duration": 14,
    "start_time": "2023-04-29T18:10:49.763Z"
   },
   {
    "duration": 63,
    "start_time": "2023-04-29T18:10:49.779Z"
   },
   {
    "duration": 16,
    "start_time": "2023-04-29T18:10:49.846Z"
   },
   {
    "duration": 351,
    "start_time": "2023-04-29T18:10:49.864Z"
   },
   {
    "duration": 48,
    "start_time": "2023-04-29T18:10:50.222Z"
   },
   {
    "duration": 17,
    "start_time": "2023-04-29T18:10:50.273Z"
   },
   {
    "duration": 12,
    "start_time": "2023-04-29T18:10:50.293Z"
   },
   {
    "duration": 1576507,
    "start_time": "2023-04-29T18:10:50.307Z"
   },
   {
    "duration": 5,
    "start_time": "2023-04-29T18:37:06.816Z"
   },
   {
    "duration": 30,
    "start_time": "2023-04-29T18:37:06.825Z"
   },
   {
    "duration": 90,
    "start_time": "2023-04-29T18:37:06.857Z"
   },
   {
    "duration": 36,
    "start_time": "2023-04-29T18:37:06.949Z"
   },
   {
    "duration": 112,
    "start_time": "2023-04-29T18:37:06.995Z"
   },
   {
    "duration": 5,
    "start_time": "2023-04-29T18:37:07.109Z"
   },
   {
    "duration": 25,
    "start_time": "2023-04-29T18:37:07.115Z"
   },
   {
    "duration": 33,
    "start_time": "2023-04-29T18:37:07.142Z"
   },
   {
    "duration": 8476,
    "start_time": "2023-04-29T18:37:07.177Z"
   },
   {
    "duration": 6,
    "start_time": "2023-04-29T18:37:15.655Z"
   },
   {
    "duration": 970,
    "start_time": "2023-04-29T18:37:15.663Z"
   },
   {
    "duration": 1817893,
    "start_time": "2023-04-29T18:37:16.638Z"
   },
   {
    "duration": 4,
    "start_time": "2023-04-29T19:07:34.533Z"
   },
   {
    "duration": 7,
    "start_time": "2023-04-29T19:07:34.539Z"
   },
   {
    "duration": 15,
    "start_time": "2023-04-29T19:07:34.548Z"
   },
   {
    "duration": 29,
    "start_time": "2023-04-29T19:07:34.565Z"
   },
   {
    "duration": 33,
    "start_time": "2023-04-29T19:07:34.597Z"
   },
   {
    "duration": 1100313,
    "start_time": "2023-04-29T19:07:34.632Z"
   },
   {
    "duration": 4,
    "start_time": "2023-04-29T19:25:54.946Z"
   },
   {
    "duration": 9,
    "start_time": "2023-04-29T19:25:54.952Z"
   },
   {
    "duration": 11,
    "start_time": "2023-04-29T19:25:54.962Z"
   },
   {
    "duration": 26,
    "start_time": "2023-04-29T19:25:54.975Z"
   },
   {
    "duration": 33,
    "start_time": "2023-04-29T19:25:55.005Z"
   },
   {
    "duration": 6469258,
    "start_time": "2023-04-29T19:25:55.040Z"
   },
   {
    "duration": 10,
    "start_time": "2023-04-29T21:13:44.304Z"
   },
   {
    "duration": 8,
    "start_time": "2023-04-29T21:13:44.320Z"
   },
   {
    "duration": 24,
    "start_time": "2023-04-29T21:13:44.334Z"
   },
   {
    "duration": 45,
    "start_time": "2023-04-29T21:13:44.360Z"
   },
   {
    "duration": 41,
    "start_time": "2023-04-29T21:13:44.413Z"
   },
   {
    "duration": 12252661,
    "start_time": "2023-04-29T21:13:44.457Z"
   },
   {
    "duration": 4,
    "start_time": "2023-04-30T00:37:57.120Z"
   },
   {
    "duration": 9,
    "start_time": "2023-04-30T00:37:57.125Z"
   },
   {
    "duration": 12,
    "start_time": "2023-04-30T00:37:57.136Z"
   },
   {
    "duration": 40,
    "start_time": "2023-04-30T00:37:57.150Z"
   },
   {
    "duration": 24,
    "start_time": "2023-04-30T00:37:57.192Z"
   },
   {
    "duration": 21,
    "start_time": "2023-04-30T00:37:57.217Z"
   },
   {
    "duration": 19618,
    "start_time": "2023-04-30T00:37:57.240Z"
   },
   {
    "duration": 16,
    "start_time": "2023-04-30T06:27:11.465Z"
   },
   {
    "duration": 2003,
    "start_time": "2023-04-30T06:32:17.689Z"
   },
   {
    "duration": 831,
    "start_time": "2023-04-30T06:32:19.694Z"
   },
   {
    "duration": 34,
    "start_time": "2023-04-30T06:32:20.527Z"
   },
   {
    "duration": 9,
    "start_time": "2023-04-30T06:32:20.562Z"
   },
   {
    "duration": 4,
    "start_time": "2023-04-30T06:32:20.590Z"
   },
   {
    "duration": 29,
    "start_time": "2023-04-30T06:32:20.596Z"
   },
   {
    "duration": 43,
    "start_time": "2023-04-30T06:32:20.626Z"
   },
   {
    "duration": 256,
    "start_time": "2023-04-30T06:32:20.671Z"
   },
   {
    "duration": 32,
    "start_time": "2023-04-30T06:32:20.929Z"
   },
   {
    "duration": 17,
    "start_time": "2023-04-30T06:32:20.963Z"
   },
   {
    "duration": 13,
    "start_time": "2023-04-30T06:32:20.982Z"
   },
   {
    "duration": 912381,
    "start_time": "2023-04-30T06:32:20.997Z"
   },
   {
    "duration": 0,
    "start_time": "2023-04-30T06:47:33.381Z"
   },
   {
    "duration": 0,
    "start_time": "2023-04-30T06:47:33.382Z"
   },
   {
    "duration": 0,
    "start_time": "2023-04-30T06:47:33.383Z"
   },
   {
    "duration": 0,
    "start_time": "2023-04-30T06:47:33.384Z"
   },
   {
    "duration": 0,
    "start_time": "2023-04-30T06:47:33.389Z"
   },
   {
    "duration": 0,
    "start_time": "2023-04-30T06:47:33.390Z"
   },
   {
    "duration": 0,
    "start_time": "2023-04-30T06:47:33.391Z"
   },
   {
    "duration": 0,
    "start_time": "2023-04-30T06:47:33.392Z"
   },
   {
    "duration": 0,
    "start_time": "2023-04-30T06:47:33.393Z"
   },
   {
    "duration": 0,
    "start_time": "2023-04-30T06:47:33.394Z"
   },
   {
    "duration": 0,
    "start_time": "2023-04-30T06:47:33.395Z"
   },
   {
    "duration": 0,
    "start_time": "2023-04-30T06:47:33.396Z"
   },
   {
    "duration": 0,
    "start_time": "2023-04-30T06:47:33.397Z"
   },
   {
    "duration": 0,
    "start_time": "2023-04-30T06:47:33.398Z"
   },
   {
    "duration": 0,
    "start_time": "2023-04-30T06:47:33.399Z"
   },
   {
    "duration": 0,
    "start_time": "2023-04-30T06:47:33.400Z"
   },
   {
    "duration": 0,
    "start_time": "2023-04-30T06:47:33.400Z"
   },
   {
    "duration": 0,
    "start_time": "2023-04-30T06:47:33.402Z"
   },
   {
    "duration": 0,
    "start_time": "2023-04-30T06:47:33.403Z"
   },
   {
    "duration": 0,
    "start_time": "2023-04-30T06:47:33.404Z"
   },
   {
    "duration": 1,
    "start_time": "2023-04-30T06:47:33.404Z"
   },
   {
    "duration": 0,
    "start_time": "2023-04-30T06:47:33.405Z"
   },
   {
    "duration": 0,
    "start_time": "2023-04-30T06:47:33.407Z"
   },
   {
    "duration": 0,
    "start_time": "2023-04-30T06:47:33.408Z"
   },
   {
    "duration": 0,
    "start_time": "2023-04-30T06:47:33.409Z"
   },
   {
    "duration": 0,
    "start_time": "2023-04-30T06:47:33.410Z"
   },
   {
    "duration": 0,
    "start_time": "2023-04-30T06:47:33.411Z"
   },
   {
    "duration": 0,
    "start_time": "2023-04-30T06:47:33.412Z"
   },
   {
    "duration": 0,
    "start_time": "2023-04-30T06:47:33.413Z"
   },
   {
    "duration": 0,
    "start_time": "2023-04-30T06:47:33.414Z"
   },
   {
    "duration": 0,
    "start_time": "2023-04-30T06:47:33.415Z"
   },
   {
    "duration": 1963,
    "start_time": "2023-04-30T06:47:39.033Z"
   },
   {
    "duration": 832,
    "start_time": "2023-04-30T06:47:40.998Z"
   },
   {
    "duration": 36,
    "start_time": "2023-04-30T06:47:41.831Z"
   },
   {
    "duration": 21,
    "start_time": "2023-04-30T06:47:41.869Z"
   },
   {
    "duration": 4,
    "start_time": "2023-04-30T06:47:41.892Z"
   },
   {
    "duration": 23,
    "start_time": "2023-04-30T06:47:41.897Z"
   },
   {
    "duration": 9,
    "start_time": "2023-04-30T06:47:41.922Z"
   },
   {
    "duration": 265,
    "start_time": "2023-04-30T06:47:41.932Z"
   },
   {
    "duration": 33,
    "start_time": "2023-04-30T06:47:42.198Z"
   },
   {
    "duration": 4,
    "start_time": "2023-04-30T06:47:42.233Z"
   },
   {
    "duration": 4,
    "start_time": "2023-04-30T06:47:42.238Z"
   },
   {
    "duration": 33174,
    "start_time": "2023-04-30T06:47:42.244Z"
   },
   {
    "duration": 0,
    "start_time": "2023-04-30T06:48:15.420Z"
   },
   {
    "duration": 0,
    "start_time": "2023-04-30T06:48:15.421Z"
   },
   {
    "duration": 0,
    "start_time": "2023-04-30T06:48:15.422Z"
   },
   {
    "duration": 0,
    "start_time": "2023-04-30T06:48:15.423Z"
   },
   {
    "duration": 0,
    "start_time": "2023-04-30T06:48:15.424Z"
   },
   {
    "duration": 0,
    "start_time": "2023-04-30T06:48:15.425Z"
   },
   {
    "duration": 0,
    "start_time": "2023-04-30T06:48:15.426Z"
   },
   {
    "duration": 0,
    "start_time": "2023-04-30T06:48:15.427Z"
   },
   {
    "duration": 0,
    "start_time": "2023-04-30T06:48:15.427Z"
   },
   {
    "duration": 0,
    "start_time": "2023-04-30T06:48:15.428Z"
   },
   {
    "duration": 0,
    "start_time": "2023-04-30T06:48:15.429Z"
   },
   {
    "duration": 0,
    "start_time": "2023-04-30T06:48:15.430Z"
   },
   {
    "duration": 0,
    "start_time": "2023-04-30T06:48:15.431Z"
   },
   {
    "duration": 0,
    "start_time": "2023-04-30T06:48:15.433Z"
   },
   {
    "duration": 0,
    "start_time": "2023-04-30T06:48:15.434Z"
   },
   {
    "duration": 0,
    "start_time": "2023-04-30T06:48:15.435Z"
   },
   {
    "duration": 0,
    "start_time": "2023-04-30T06:48:15.436Z"
   },
   {
    "duration": 0,
    "start_time": "2023-04-30T06:48:15.437Z"
   },
   {
    "duration": 0,
    "start_time": "2023-04-30T06:48:15.438Z"
   },
   {
    "duration": 0,
    "start_time": "2023-04-30T06:48:15.439Z"
   },
   {
    "duration": 0,
    "start_time": "2023-04-30T06:48:15.440Z"
   },
   {
    "duration": 0,
    "start_time": "2023-04-30T06:48:15.441Z"
   },
   {
    "duration": 0,
    "start_time": "2023-04-30T06:48:15.442Z"
   },
   {
    "duration": 0,
    "start_time": "2023-04-30T06:48:15.443Z"
   },
   {
    "duration": 0,
    "start_time": "2023-04-30T06:48:15.444Z"
   },
   {
    "duration": 0,
    "start_time": "2023-04-30T06:48:15.445Z"
   },
   {
    "duration": 0,
    "start_time": "2023-04-30T06:48:15.491Z"
   },
   {
    "duration": 0,
    "start_time": "2023-04-30T06:48:15.492Z"
   },
   {
    "duration": 0,
    "start_time": "2023-04-30T06:48:15.493Z"
   },
   {
    "duration": 0,
    "start_time": "2023-04-30T06:48:15.494Z"
   },
   {
    "duration": 0,
    "start_time": "2023-04-30T06:48:15.495Z"
   },
   {
    "duration": 2069,
    "start_time": "2023-04-30T06:48:28.860Z"
   },
   {
    "duration": 835,
    "start_time": "2023-04-30T06:48:30.931Z"
   },
   {
    "duration": 34,
    "start_time": "2023-04-30T06:48:31.768Z"
   },
   {
    "duration": 33,
    "start_time": "2023-04-30T06:48:31.803Z"
   },
   {
    "duration": 21,
    "start_time": "2023-04-30T06:48:31.838Z"
   },
   {
    "duration": 44,
    "start_time": "2023-04-30T06:48:31.861Z"
   },
   {
    "duration": 23,
    "start_time": "2023-04-30T06:48:31.906Z"
   },
   {
    "duration": 255,
    "start_time": "2023-04-30T06:48:31.931Z"
   },
   {
    "duration": 32,
    "start_time": "2023-04-30T06:48:32.189Z"
   },
   {
    "duration": 23,
    "start_time": "2023-04-30T06:48:32.223Z"
   },
   {
    "duration": 13,
    "start_time": "2023-04-30T06:48:32.248Z"
   },
   {
    "duration": 104446,
    "start_time": "2023-04-30T06:48:32.262Z"
   },
   {
    "duration": 0,
    "start_time": "2023-04-30T06:50:16.711Z"
   },
   {
    "duration": 0,
    "start_time": "2023-04-30T06:50:16.713Z"
   },
   {
    "duration": 0,
    "start_time": "2023-04-30T06:50:16.714Z"
   },
   {
    "duration": 1,
    "start_time": "2023-04-30T06:50:16.715Z"
   },
   {
    "duration": 0,
    "start_time": "2023-04-30T06:50:16.717Z"
   },
   {
    "duration": 0,
    "start_time": "2023-04-30T06:50:16.718Z"
   },
   {
    "duration": 0,
    "start_time": "2023-04-30T06:50:16.719Z"
   },
   {
    "duration": 0,
    "start_time": "2023-04-30T06:50:16.721Z"
   },
   {
    "duration": 0,
    "start_time": "2023-04-30T06:50:16.722Z"
   },
   {
    "duration": 0,
    "start_time": "2023-04-30T06:50:16.723Z"
   },
   {
    "duration": 0,
    "start_time": "2023-04-30T06:50:16.724Z"
   },
   {
    "duration": 0,
    "start_time": "2023-04-30T06:50:16.725Z"
   },
   {
    "duration": 0,
    "start_time": "2023-04-30T06:50:16.727Z"
   },
   {
    "duration": 0,
    "start_time": "2023-04-30T06:50:16.728Z"
   },
   {
    "duration": 0,
    "start_time": "2023-04-30T06:50:16.729Z"
   },
   {
    "duration": 0,
    "start_time": "2023-04-30T06:50:16.730Z"
   },
   {
    "duration": 0,
    "start_time": "2023-04-30T06:50:16.731Z"
   },
   {
    "duration": 0,
    "start_time": "2023-04-30T06:50:16.732Z"
   },
   {
    "duration": 0,
    "start_time": "2023-04-30T06:50:16.733Z"
   },
   {
    "duration": 0,
    "start_time": "2023-04-30T06:50:16.734Z"
   },
   {
    "duration": 0,
    "start_time": "2023-04-30T06:50:16.735Z"
   },
   {
    "duration": 0,
    "start_time": "2023-04-30T06:50:16.737Z"
   },
   {
    "duration": 0,
    "start_time": "2023-04-30T06:50:16.737Z"
   },
   {
    "duration": 0,
    "start_time": "2023-04-30T06:50:16.738Z"
   },
   {
    "duration": 0,
    "start_time": "2023-04-30T06:50:16.739Z"
   },
   {
    "duration": 0,
    "start_time": "2023-04-30T06:50:16.789Z"
   },
   {
    "duration": 0,
    "start_time": "2023-04-30T06:50:16.791Z"
   },
   {
    "duration": 0,
    "start_time": "2023-04-30T06:50:16.792Z"
   },
   {
    "duration": 0,
    "start_time": "2023-04-30T06:50:16.793Z"
   },
   {
    "duration": 0,
    "start_time": "2023-04-30T06:50:16.795Z"
   },
   {
    "duration": 0,
    "start_time": "2023-04-30T06:50:16.796Z"
   },
   {
    "duration": 2021,
    "start_time": "2023-04-30T06:50:40.385Z"
   },
   {
    "duration": 814,
    "start_time": "2023-04-30T06:50:42.408Z"
   },
   {
    "duration": 34,
    "start_time": "2023-04-30T06:50:43.223Z"
   },
   {
    "duration": 12,
    "start_time": "2023-04-30T06:50:43.258Z"
   },
   {
    "duration": 18,
    "start_time": "2023-04-30T06:50:43.272Z"
   },
   {
    "duration": 28,
    "start_time": "2023-04-30T06:50:43.292Z"
   },
   {
    "duration": 17,
    "start_time": "2023-04-30T06:50:43.321Z"
   },
   {
    "duration": 251,
    "start_time": "2023-04-30T06:50:43.339Z"
   },
   {
    "duration": 33,
    "start_time": "2023-04-30T06:50:43.591Z"
   },
   {
    "duration": 14,
    "start_time": "2023-04-30T06:50:43.626Z"
   },
   {
    "duration": 5,
    "start_time": "2023-04-30T06:50:43.642Z"
   },
   {
    "duration": 1194993,
    "start_time": "2023-04-30T06:50:43.648Z"
   },
   {
    "duration": 4,
    "start_time": "2023-04-30T07:10:38.643Z"
   },
   {
    "duration": 8,
    "start_time": "2023-04-30T07:10:38.650Z"
   },
   {
    "duration": 78,
    "start_time": "2023-04-30T07:10:38.660Z"
   },
   {
    "duration": 36,
    "start_time": "2023-04-30T07:10:38.739Z"
   },
   {
    "duration": 89,
    "start_time": "2023-04-30T07:10:38.777Z"
   },
   {
    "duration": 4,
    "start_time": "2023-04-30T07:10:38.868Z"
   },
   {
    "duration": 18,
    "start_time": "2023-04-30T07:10:38.874Z"
   },
   {
    "duration": 5,
    "start_time": "2023-04-30T07:10:38.893Z"
   },
   {
    "duration": 6349,
    "start_time": "2023-04-30T07:10:38.900Z"
   },
   {
    "duration": 4,
    "start_time": "2023-04-30T07:10:45.251Z"
   },
   {
    "duration": 680,
    "start_time": "2023-04-30T07:10:45.257Z"
   },
   {
    "duration": 144,
    "start_time": "2023-04-30T07:10:45.939Z"
   },
   {
    "duration": 0,
    "start_time": "2023-04-30T07:10:46.089Z"
   },
   {
    "duration": 0,
    "start_time": "2023-04-30T07:10:46.091Z"
   },
   {
    "duration": 1,
    "start_time": "2023-04-30T07:10:46.092Z"
   },
   {
    "duration": 0,
    "start_time": "2023-04-30T07:10:46.094Z"
   },
   {
    "duration": 0,
    "start_time": "2023-04-30T07:10:46.096Z"
   },
   {
    "duration": 0,
    "start_time": "2023-04-30T07:10:46.097Z"
   },
   {
    "duration": 0,
    "start_time": "2023-04-30T07:10:46.098Z"
   },
   {
    "duration": 0,
    "start_time": "2023-04-30T07:10:46.099Z"
   },
   {
    "duration": 0,
    "start_time": "2023-04-30T07:10:46.101Z"
   },
   {
    "duration": 0,
    "start_time": "2023-04-30T07:10:46.103Z"
   },
   {
    "duration": 0,
    "start_time": "2023-04-30T07:10:46.104Z"
   },
   {
    "duration": 0,
    "start_time": "2023-04-30T07:10:46.105Z"
   },
   {
    "duration": 0,
    "start_time": "2023-04-30T07:10:46.106Z"
   },
   {
    "duration": 1,
    "start_time": "2023-04-30T07:10:46.107Z"
   },
   {
    "duration": 0,
    "start_time": "2023-04-30T07:10:46.109Z"
   },
   {
    "duration": 0,
    "start_time": "2023-04-30T07:10:46.110Z"
   },
   {
    "duration": 0,
    "start_time": "2023-04-30T07:10:46.111Z"
   },
   {
    "duration": 0,
    "start_time": "2023-04-30T07:10:46.112Z"
   },
   {
    "duration": 0,
    "start_time": "2023-04-30T07:10:46.113Z"
   },
   {
    "duration": 383793,
    "start_time": "2023-04-30T07:32:59.126Z"
   },
   {
    "duration": 3,
    "start_time": "2023-04-30T07:39:22.921Z"
   },
   {
    "duration": 3,
    "start_time": "2023-04-30T07:39:22.926Z"
   },
   {
    "duration": 8,
    "start_time": "2023-04-30T07:39:22.931Z"
   },
   {
    "duration": 8,
    "start_time": "2023-04-30T07:39:22.940Z"
   },
   {
    "duration": 19,
    "start_time": "2023-04-30T07:39:22.950Z"
   },
   {
    "duration": 464556,
    "start_time": "2023-04-30T07:39:22.990Z"
   },
   {
    "duration": 4,
    "start_time": "2023-04-30T07:47:07.548Z"
   },
   {
    "duration": 12,
    "start_time": "2023-04-30T07:47:07.554Z"
   },
   {
    "duration": 19,
    "start_time": "2023-04-30T07:47:07.568Z"
   },
   {
    "duration": 10,
    "start_time": "2023-04-30T07:47:07.589Z"
   },
   {
    "duration": 27,
    "start_time": "2023-04-30T07:47:07.601Z"
   },
   {
    "duration": 2619004,
    "start_time": "2023-04-30T07:47:07.629Z"
   },
   {
    "duration": 3,
    "start_time": "2023-04-30T08:30:46.635Z"
   },
   {
    "duration": 4,
    "start_time": "2023-04-30T08:30:46.640Z"
   },
   {
    "duration": 10,
    "start_time": "2023-04-30T08:30:46.646Z"
   },
   {
    "duration": 9,
    "start_time": "2023-04-30T08:30:46.657Z"
   },
   {
    "duration": 34,
    "start_time": "2023-04-30T08:30:46.668Z"
   },
   {
    "duration": 9,
    "start_time": "2023-04-30T08:30:46.704Z"
   },
   {
    "duration": 14,
    "start_time": "2023-04-30T08:30:46.714Z"
   },
   {
    "duration": 12,
    "start_time": "2023-04-30T09:34:45.021Z"
   },
   {
    "duration": 4,
    "start_time": "2023-04-30T09:36:41.193Z"
   },
   {
    "duration": 4,
    "start_time": "2023-04-30T09:37:18.394Z"
   }
  ],
  "kernelspec": {
   "display_name": "Python 3 (ipykernel)",
   "language": "python",
   "name": "python3"
  },
  "language_info": {
   "codemirror_mode": {
    "name": "ipython",
    "version": 3
   },
   "file_extension": ".py",
   "mimetype": "text/x-python",
   "name": "python",
   "nbconvert_exporter": "python",
   "pygments_lexer": "ipython3",
   "version": "3.9.13"
  },
  "toc": {
   "base_numbering": 1,
   "nav_menu": {},
   "number_sections": true,
   "sideBar": true,
   "skip_h1_title": true,
   "title_cell": "Содержание",
   "title_sidebar": "Contents",
   "toc_cell": true,
   "toc_position": {
    "height": "calc(100% - 180px)",
    "left": "10px",
    "top": "150px",
    "width": "302.391px"
   },
   "toc_section_display": true,
   "toc_window_display": false
  }
 },
 "nbformat": 4,
 "nbformat_minor": 2
}
